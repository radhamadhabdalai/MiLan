{
 "cells": [
  {
   "cell_type": "code",
   "execution_count": null,
   "id": "a2ededc1",
   "metadata": {},
   "outputs": [],
   "source": [
    "######################################################################################\n",
    "Copyright (c) 2023, 2024 , Prof. Radhamadhab Dalai, ITER , Siksha O Aanusandhan University, \n",
    "Odisha, India\n",
    "Author's email address :  radhamadhabdalai@soa.ac.in\n",
    "#####################################################################################\n",
    "print (\"Welocome to MLshop\")"
   ]
  },
  {
   "cell_type": "code",
   "execution_count": 3,
   "id": "da3b434c",
   "metadata": {},
   "outputs": [],
   "source": [
    "import pandas as pd"
   ]
  },
  {
   "cell_type": "code",
   "execution_count": null,
   "id": "cd7103cd",
   "metadata": {},
   "outputs": [],
   "source": [
    "Copyright (c) 2023, 2024 Radhamadhab Dalai, ITER , Siksha O Aanusandhan University, \n",
    "Odisha, India\n",
    "Author's email address :  radhamadhabdalai@soa.ac.in\n",
    "\n",
    "#Goal\n",
    "\n",
    "In this module, we will introduce simple naive implementations of supervised \n",
    "machine learning Aapproaches. \n",
    "\n",
    "#routine method for converting categorical(qualititaive data) to numerical data\n",
    "import pandas as pd\n",
    "import numpy as np\n",
    "import matplotlib\n",
    "from sklearn.model_selection import train_test_split\n",
    "## For Naive Bayes \n",
    "\n",
    "from sklearn.naive_bayes import GaussianNB\n",
    "from sklearn.metrics import (accuracy_score, confusion_matrix, consensus_score, ConfusionMatrixDisplay, f1_score, classification_report)\n",
    "\n",
    "data = pd.read_csv('fruit_data.csv')\n",
    "df = pd.DataFrame(data)\n",
    "#print(df)\n",
    "cat_columns = df.select_dtypes(['object']).columns\n",
    "df[cat_columns] = df[cat_columns].apply(lambda x: pd.factorize(x)[0])\n",
    "\n",
    "# print dataframe\n",
    "#df  \n",
    "X = df.to_numpy()\n",
    "X1 = X[:, 3:7]   ## features  : X -> x1, x2,.....xn\n",
    "Y1 = X[:,1]      # Output : Y\n",
    "# Now split the data into Training and Testing dataset\n",
    "# Routine method for splitting numpy data\n",
    "# Now split the data into Training and Testing dataset\n",
    "# Routine method for splitting numpy data\n",
    "X_train, X_test ,Y_train, Y_test = train_test_split(X1,Y1,test_size=0.33 , random_state= 42)\n",
    "\n",
    "print(X_train)\n",
    "print(Y_train)"
   ]
  },
  {
   "cell_type": "code",
   "execution_count": 13,
   "id": "2375d972",
   "metadata": {},
   "outputs": [
    {
     "name": "stdout",
     "output_type": "stream",
     "text": [
      "[[  1.     0.     0.   192.     8.4    7.3    0.55]\n",
      " [  1.     0.     0.   180.     8.     6.8    0.59]\n",
      " [  1.     0.     0.   176.     7.4    7.2    0.6 ]\n",
      " [  2.     1.     1.    86.     6.2    4.7    0.8 ]\n",
      " [  2.     1.     1.    84.     6.     4.6    0.79]\n",
      " [  2.     1.     1.    80.     5.8    4.3    0.77]\n",
      " [  2.     1.     1.    80.     5.9    4.3    0.81]\n",
      " [  2.     1.     1.    76.     5.8    4.     0.81]\n",
      " [  1.     0.     2.   178.     7.1    7.8    0.92]\n",
      " [  1.     0.     2.   172.     7.4    7.     0.89]\n",
      " [  1.     0.     2.   166.     6.9    7.3    0.93]\n",
      " [  1.     0.     2.   172.     7.1    7.6    0.92]\n",
      " [  1.     0.     2.   154.     7.     7.1    0.88]\n",
      " [  1.     0.     3.   164.     7.3    7.7    0.7 ]\n",
      " [  1.     0.     3.   152.     7.6    7.3    0.69]\n",
      " [  1.     0.     3.   156.     7.7    7.1    0.69]\n",
      " [  1.     0.     3.   156.     7.6    7.5    0.67]\n",
      " [  1.     0.     3.   168.     7.5    7.6    0.73]\n",
      " [  1.     0.     4.   162.     7.5    7.1    0.83]\n",
      " [  1.     0.     4.   162.     7.4    7.2    0.85]\n",
      " [  1.     0.     4.   160.     7.5    7.5    0.86]\n",
      " [  1.     0.     4.   156.     7.4    7.4    0.84]\n",
      " [  1.     0.     4.   140.     7.3    7.1    0.87]\n",
      " [  1.     0.     4.   170.     7.6    7.9    0.88]\n",
      " [  3.     2.     5.   342.     9.     9.4    0.75]\n",
      " [  3.     2.     5.   356.     9.2    9.2    0.75]\n",
      " [  3.     2.     5.   362.     9.6    9.2    0.74]\n",
      " [  3.     2.     6.   204.     7.5    9.2    0.77]\n",
      " [  3.     2.     6.   140.     6.7    7.1    0.72]\n",
      " [  3.     2.     6.   160.     7.     7.4    0.81]\n",
      " [  3.     2.     6.   158.     7.1    7.5    0.79]\n",
      " [  3.     2.     6.   210.     7.8    8.     0.82]\n",
      " [  3.     2.     6.   164.     7.2    7.     0.8 ]\n",
      " [  3.     2.     7.   190.     7.5    8.1    0.74]\n",
      " [  3.     2.     7.   142.     7.6    7.8    0.75]\n",
      " [  3.     2.     7.   150.     7.1    7.9    0.75]\n",
      " [  3.     2.     7.   160.     7.1    7.6    0.76]\n",
      " [  3.     2.     7.   154.     7.3    7.3    0.79]\n",
      " [  3.     2.     7.   158.     7.2    7.8    0.77]\n",
      " [  3.     2.     7.   144.     6.8    7.4    0.75]\n",
      " [  3.     2.     7.   154.     7.1    7.5    0.78]\n",
      " [  3.     2.     7.   180.     7.6    8.2    0.79]\n",
      " [  3.     2.     7.   154.     7.2    7.2    0.82]\n",
      " [  4.     3.     8.   194.     7.2   10.3    0.7 ]\n",
      " [  4.     3.     8.   200.     7.3   10.5    0.72]\n",
      " [  4.     3.     8.   186.     7.2    9.2    0.72]\n",
      " [  4.     3.     8.   216.     7.3   10.2    0.71]\n",
      " [  4.     3.     8.   196.     7.3    9.7    0.72]\n",
      " [  4.     3.     8.   174.     7.3   10.1    0.72]\n",
      " [  4.     3.     9.   132.     5.8    8.7    0.73]\n",
      " [  4.     3.     9.   130.     6.     8.2    0.71]\n",
      " [  4.     3.     9.   116.     6.     7.5    0.72]\n",
      " [  4.     3.     9.   118.     5.9    8.     0.72]\n",
      " [  4.     3.     9.   120.     6.     8.4    0.74]\n",
      " [  4.     3.     9.   116.     6.1    8.5    0.71]\n",
      " [  4.     3.     9.   116.     6.3    7.7    0.72]\n",
      " [  4.     3.     9.   116.     5.9    8.1    0.73]\n",
      " [  4.     3.     9.   152.     6.5    8.5    0.72]\n",
      " [  4.     3.     9.   118.     6.1    8.1    0.7 ]]\n"
     ]
    }
   ],
   "source": [
    "print(X) "
   ]
  },
  {
   "cell_type": "code",
   "execution_count": null,
   "id": "37a30b10",
   "metadata": {},
   "outputs": [],
   "source": []
  }
 ],
 "metadata": {
  "kernelspec": {
   "display_name": "Python 3 (ipykernel)",
   "language": "python",
   "name": "python3"
  },
  "language_info": {
   "codemirror_mode": {
    "name": "ipython",
    "version": 3
   },
   "file_extension": ".py",
   "mimetype": "text/x-python",
   "name": "python",
   "nbconvert_exporter": "python",
   "pygments_lexer": "ipython3",
   "version": "3.7.16"
  }
 },
 "nbformat": 4,
 "nbformat_minor": 5
}
