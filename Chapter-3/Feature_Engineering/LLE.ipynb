{
 "cells": [
  {
   "cell_type": "code",
   "execution_count": null,
   "metadata": {},
   "outputs": [],
   "source": [
    "######################################################################################\n",
    "Copyright (c) 2023, 2024 , Prof. Radhamadhab Dalai, ITER , Siksha O Aanusandhan University, \n",
    "Odisha, India\n",
    "Author's email address :  radhamadhabdalai@soa.ac.in\n",
    "#####################################################################################"
   ]
  },
  {
   "cell_type": "code",
   "execution_count": 4,
   "metadata": {},
   "outputs": [
    {
     "name": "stdout",
     "output_type": "stream",
     "text": [
      "0.7\n",
      "0.7\n"
     ]
    }
   ],
   "source": [
    "#Feature Engineering\n",
    "#LLE from sklearn\n",
    "#routine method for converting categorical(qualititaive data) to numerical data\n",
    "import pandas as pd\n",
    "import numpy as np\n",
    "import sklearn\n",
    "from sklearn.model_selection import train_test_split,RandomizedSearchCV\n",
    "from scipy.stats import randint\n",
    "\n",
    "import matplotlib.pyplot as plt\n",
    "import seaborn as sns\n",
    "\n",
    "%matplotlib inline\n",
    "sns.set_style('whitegrid')\n",
    "\n",
    "from sklearn.discriminant_analysis import LinearDiscriminantAnalysis as LDA\n",
    "from sklearn.preprocessing import StandardScaler\n",
    "from sklearn.decomposition import PCA\n",
    "from sklearn.ensemble import RandomForestClassifier\n",
    "from sklearn.tree import export_graphviz, DecisionTreeClassifier\n",
    "from sklearn.metrics import (accuracy_score, confusion_matrix, consensus_score, ConfusionMatrixDisplay, f1_score, classification_report)\n",
    "\n",
    "data = pd.read_csv('fruit_data.csv')\n",
    "df = pd.DataFrame(data)\n",
    "class_names = df['fruit_name'].unique()\n",
    "\n",
    "#print(df)\n",
    "cat_columns = df.select_dtypes(['object']).columns\n",
    "df[cat_columns] = df[cat_columns].apply(lambda x: pd.factorize(x)[0])\n",
    "\n",
    "# print dataframe\n",
    "#df  \n",
    "X = df.to_numpy()\n",
    "X1 = X[:, 3:7]   ## features  : X -> x1, x2,.....xn\n",
    "Y1 = X[:,1]      # Output : Y\n",
    "# Now split the data into Training and Testing dataset\n",
    "# Routine method for splitting numpy data\n",
    "# Now split the data into Training and Testing dataset\n",
    "# Routine method for splitting numpy data\n",
    "X_train, X_test ,Y_train, Y_test = train_test_split(X1,Y1,test_size=0.33 , random_state= 42)\n",
    "\n",
    "# LLE is another dimensionality reduction techniques\n",
    "from sklearn.manifold import LocallyLinearEmbedding as LLE\n",
    "\n",
    "lle = LLE(n_components=2)\n",
    "X_train_lda = lle.fit_transform(X_train, Y_train)\n",
    "X_test_lda = lle.transform(X_test)\n",
    "\n",
    "model = RandomForestClassifier(n_estimators=50, random_state=0)\n",
    "model.fit(X_train_lda, Y_train)\n",
    "\n",
    "Y_pred = model.predict(X_test_lda)\n",
    "\n",
    "print(accuracy_score(Y_test, Y_pred))\n",
    "\n",
    "# compare with PCA\n",
    "\n",
    "pca_model = PCA(n_components= 1)\n",
    "X_train_pca = pca_model.fit_transform(X_train)\n",
    "X_test_pca = pca_model.transform(X_test)\n",
    "\n",
    "model = RandomForestClassifier(n_estimators=50, random_state=0)\n",
    "model.fit(X_train_pca, Y_train)\n",
    "Y_pred = model.predict(X_test_pca)\n",
    "\n",
    "print(accuracy_score(Y_test, Y_pred))\n"
   ]
  },
  {
   "cell_type": "code",
   "execution_count": null,
   "metadata": {},
   "outputs": [],
   "source": []
  }
 ],
 "metadata": {
  "kernelspec": {
   "display_name": "Python 3",
   "language": "python",
   "name": "python3"
  },
  "language_info": {
   "codemirror_mode": {
    "name": "ipython",
    "version": 3
   },
   "file_extension": ".py",
   "mimetype": "text/x-python",
   "name": "python",
   "nbconvert_exporter": "python",
   "pygments_lexer": "ipython3",
   "version": "3.12.2"
  }
 },
 "nbformat": 4,
 "nbformat_minor": 5
}
