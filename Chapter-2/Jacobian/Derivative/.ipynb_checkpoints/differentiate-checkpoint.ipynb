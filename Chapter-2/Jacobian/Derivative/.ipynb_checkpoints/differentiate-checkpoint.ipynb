{
 "cells": [
  {
   "cell_type": "code",
   "execution_count": null,
   "id": "7cc91e32",
   "metadata": {},
   "outputs": [],
   "source": [
    "######################################################################################\n",
    "Copyright (c) 2023, 2024 , Prof. Radhamadhab Dalai, ITER , Siksha O Aanusandhan University, \n",
    "Odisha, India\n",
    "Author's email address :  radhamadhabdalai@soa.ac.in\n",
    "#####################################################################################\n",
    "\n",
    "def derivative ( f, x, dTheta, degree, contourRadius ):\n",
    "    riemannSum = 0\n",
    "    theta = 0\n",
    "    while theta < 2 *np.pi:\n",
    "        functionArgument = np.complex128(x + contourRadius*np.exp( 1j *theta))\n",
    "        secondFactor = ( 1 /contourRadius)**degree*np.complex128(np.exp(- 1j * degree * theta))\n",
    "        riemannSum += f(functionArgument) * secondFactor * dTheta\n",
    "        theta += dTheta\n",
    "    return factorial(degree) * riemannSum.real / ( 2 *np.pi)"
   ]
  }
 ],
 "metadata": {
  "kernelspec": {
   "display_name": "Python 3 (ipykernel)",
   "language": "python",
   "name": "python3"
  },
  "language_info": {
   "codemirror_mode": {
    "name": "ipython",
    "version": 3
   },
   "file_extension": ".py",
   "mimetype": "text/x-python",
   "name": "python",
   "nbconvert_exporter": "python",
   "pygments_lexer": "ipython3",
   "version": "3.7.16"
  }
 },
 "nbformat": 4,
 "nbformat_minor": 5
}
