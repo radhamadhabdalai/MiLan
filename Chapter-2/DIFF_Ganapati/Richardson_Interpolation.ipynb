{
 "cells": [
  {
   "cell_type": "code",
   "execution_count": 4,
   "id": "6abd8a18",
   "metadata": {},
   "outputs": [
    {
     "name": "stdout",
     "output_type": "stream",
     "text": [
      "[2.73942276236997, 0.5337571418566939, 2.0155555555555504]\n"
     ]
    }
   ],
   "source": [
    "\n",
    "######################################################################################\n",
    "'''Copyright (c) 2023, 2024 , Prof. Radhamadhab Dalai, ITER , Siksha O Aanusandhan University, \n",
    "Odisha, India\n",
    "Author's email address :  radhamadhabdalai@soa.ac.in'''\n",
    "###################################################################################\n",
    "import math\n",
    "\n",
    "def richardson_extrapolation(T, x, h, k):\n",
    "    n = len(T)  # Number of components in tensor vector\n",
    "    derivatives = [0] * n\n",
    "    \n",
    "    for i in range(n):\n",
    "        D = []\n",
    "        for j in range(k+1):\n",
    "            step_size = h / (2 ** j)\n",
    "            D.append((T[i](x + step_size) - T[i](x)) / step_size)\n",
    "        \n",
    "        # Richardson's extrapolation\n",
    "        for j in range(k):\n",
    "            for m in range(k - j):\n",
    "                D[m] = (4 ** (j + 1) * D[m + 1] - D[m]) / (4 ** (j + 1) - 1)\n",
    "        \n",
    "        derivatives[i] = D[0]\n",
    "    \n",
    "    return derivatives\n",
    "\n",
    "def T1(x): return math.exp(x)\n",
    "def T2(x): return math.sin(x)\n",
    "def T3(x): return x**2\n",
    "\n",
    "T = [T1, T2, T3]\n",
    "x = 1\n",
    "h = 0.1\n",
    "k = 2\n",
    "\n",
    "derivatives = richardson_extrapolation(T, x, h, k)\n",
    "print(derivatives)"
   ]
  },
  {
   "cell_type": "code",
   "execution_count": null,
   "id": "e2903268",
   "metadata": {},
   "outputs": [],
   "source": []
  }
 ],
 "metadata": {
  "kernelspec": {
   "display_name": "Python 3 (ipykernel)",
   "language": "python",
   "name": "python3"
  },
  "language_info": {
   "codemirror_mode": {
    "name": "ipython",
    "version": 3
   },
   "file_extension": ".py",
   "mimetype": "text/x-python",
   "name": "python",
   "nbconvert_exporter": "python",
   "pygments_lexer": "ipython3",
   "version": "3.7.16"
  }
 },
 "nbformat": 4,
 "nbformat_minor": 5
}
