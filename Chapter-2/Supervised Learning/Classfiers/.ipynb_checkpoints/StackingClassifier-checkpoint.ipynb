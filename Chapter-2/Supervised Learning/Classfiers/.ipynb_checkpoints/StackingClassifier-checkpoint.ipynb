{
 "cells": [
  {
   "cell_type": "code",
   "execution_count": null,
   "metadata": {},
   "outputs": [],
   "source": [
    "######################################################################################\n",
    "Copyright (c) 2023, 2024 , Prof. Radhamadhab Dalai, ITER , Siksha O Aanusandhan University, \n",
    "Odisha, India\n",
    "Author's email address :  radhamadhabdalai@soa.ac.in\n",
    "#####################################################################################"
   ]
  },
  {
   "cell_type": "code",
   "execution_count": 4,
   "metadata": {},
   "outputs": [
    {
     "name": "stderr",
     "output_type": "stream",
     "text": [
      "/home/iter/anaconda3/envs/ml/lib/python3.12/site-packages/sklearn/model_selection/_split.py:725: UserWarning: The least populated class in y has only 1 members, which is less than n_splits=5.\n",
      "  warnings.warn(\n"
     ]
    },
    {
     "name": "stdout",
     "output_type": "stream",
     "text": [
      "              precision    recall  f1-score   support\n",
      "\n",
      "         0.0       1.00      0.67      0.80         6\n",
      "         1.0       1.00      1.00      1.00         4\n",
      "         2.0       0.67      1.00      0.80         4\n",
      "         3.0       0.83      0.83      0.83         6\n",
      "\n",
      "    accuracy                           0.85        20\n",
      "   macro avg       0.88      0.88      0.86        20\n",
      "weighted avg       0.88      0.85      0.85        20\n",
      "\n",
      "train ROC\n"
     ]
    },
    {
     "name": "stderr",
     "output_type": "stream",
     "text": [
      "/home/iter/anaconda3/envs/ml/lib/python3.12/site-packages/sklearn/model_selection/_validation.py:1166: RuntimeWarning: Number of classes in training fold (3) does not match total number of classes (4). Results may not be appropriate for your use case. To fix this, use a cross-validation technique resulting in properly stratified folds\n",
      "  warnings.warn(\n"
     ]
    },
    {
     "data": {
      "image/png": "[encoded data removed]",
      "text/plain": [
       "<Figure size 640x480 with 1 Axes>"
      ]
     },
     "metadata": {},
     "output_type": "display_data"
    }
   ],
   "source": [
    "# Ensemble classifiers (Boosting:Gradient Boosting, XgBoost)\n",
    "#routine method for converting categorical(qualititaive data) to numerical data\n",
    "import pandas as pd\n",
    "import numpy as np\n",
    "import matplotlib\n",
    "from sklearn.model_selection import train_test_split,RandomizedSearchCV\n",
    "from scipy.stats import randint\n",
    "from sklearn.pipeline import Pipeline\n",
    "from sklearn.preprocessing import RobustScaler\n",
    "\n",
    "\n",
    "## For Decision Tree classifier\n",
    "from six import StringIO\n",
    "from IPython.display import Image\n",
    "import pydotplus\n",
    "import graphviz\n",
    "\n",
    "from sklearn.ensemble import StackingClassifier,RandomForestClassifier, GradientBoostingClassifier\n",
    "from sklearn.linear_model import LogisticRegression\n",
    "from sklearn.svm import SVC\n",
    "from sklearn.tree import export_graphviz, DecisionTreeClassifier\n",
    "from sklearn.metrics import (accuracy_score, confusion_matrix, consensus_score, ConfusionMatrixDisplay, \n",
    "f1_score, classification_report, roc_auc_score, RocCurveDisplay)\n",
    "# from scikitplot.metrics import plot_roc_curve\n",
    "\n",
    "data = pd.read_csv('fruit_data.csv')\n",
    "df = pd.DataFrame(data)\n",
    "class_names = df['fruit_name'].unique()\n",
    "\n",
    "#print(df)\n",
    "cat_columns = df.select_dtypes(['object']).columns\n",
    "df[cat_columns] = df[cat_columns].apply(lambda x: pd.factorize(x)[0])\n",
    "\n",
    "# print dataframe\n",
    "#df  \n",
    "X = df.to_numpy()\n",
    "X1 = X[:, 3:7]   ## features  : X -> x1, x2,.....xn\n",
    "Y1 = X[:,1]      # Output : Y\n",
    "# Now split the data into Training and Testing dataset\n",
    "# Routine method for splitting numpy data\n",
    "# Now split the data into Training and Testing dataset\n",
    "# Routine method for splitting numpy data\n",
    "X_train, X_test ,Y_train, Y_test = train_test_split(X1,Y1,test_size=0.33 , random_state= 42)\n",
    "\n",
    "## Now select the model and fit the data\n",
    "## Find perform## Ensemble classifiers (Bagginng)\n",
    "#routine method for converting categorical(qualititaive data) to numerical data\n",
    "\n",
    "model =  GradientBoostingClassifier(random_state = 42 ) \n",
    "\n",
    "\n",
    "model.fit(X_train, Y_train)\n",
    "Y_pred = model.predict(X_test)\n",
    "\n",
    "\n",
    "\n",
    "ensemble = StackingClassifier(\n",
    "    estimators=[\n",
    "        (\"modelrfc\", RandomForestClassifier(\n",
    "        class_weight='balanced', \n",
    "        criterion='entropy',\n",
    "        max_depth=22, \n",
    "        min_samples_split=4, \n",
    "        n_estimators=250,\n",
    "        random_state=56))\n",
    "    ],\n",
    "    final_estimator=LogisticRegression(class_weight='balanced',random_state = 0),\n",
    "    cv=5,\n",
    "    passthrough=False,\n",
    "    n_jobs=-1,\n",
    ")\n",
    "steps = [('scale', RobustScaler()),\n",
    "         ('ec',ensemble)]\n",
    "stacking_classifiers = Pipeline(steps)\n",
    "stacking_classifiers= stacking_classifiers.fit(X_train, Y_train)\n",
    "trainy_pred_st = stacking_classifiers.predict(X_train)\n",
    "validy_pred_st = stacking_classifiers.predict(X_test)\n",
    "\n",
    "\n",
    "## performance metrics\n",
    "\n",
    "accuracy = accuracy_score(Y_pred,Y_test)\n",
    "f1 = f1_score(Y_pred, Y_test, average= 'weighted')\n",
    "\n",
    "report = classification_report(Y_test, Y_pred)\n",
    "\n",
    "\n",
    "\n",
    "print(report)\n",
    "\n",
    "# from sklearn import metrics \n",
    "print('train ROC')\n",
    "\n",
    "\n",
    "\n",
    "# y_true = # true labels\n",
    "# y_probas = # predicted results\n",
    "fpr, tpr, thresholds = metrics.roc_curve(Y_test, Y_pred, pos_label=0)\n",
    "\n",
    "# Print ROC curve\n",
    "plt.plot(fpr,tpr)\n",
    "plt.show() \n",
    "\n",
    "\n",
    "auc = np.trapz(tpr,fpr)\n",
    "print('AUC:', auc)\n",
    "# fpr, tpr, thresholds = metrics.roc_curve(Y_test, Y_pred)\n",
    "# roc_auc = metrics.auc(fpr, tpr)\n",
    "# display = metrics.RocCurveDisplay(fpr=fpr, tpr=tpr, roc_auc=roc_auc,\n",
    "#                                    estimator_name='example estimator')\n",
    "# display.plot()\n",
    "\n",
    "# plt.show()\n",
    "\n",
    "\n",
    "# metrics.RocCurveDisplay(stacking_classifiers, X_train, Y_train)\n",
    "# plot_roc_auc(stacking_classifiers, X_train, Y_train)\n",
    "# print('test ROC')\n",
    "# plot_roc_auc(stacking_classifiers, X_test, Y_test)\n",
    "# print(\"Accuracy :\", accuracy)\n",
    "# print(\"F1 score : \", f1)"
   ]
  },
  {
   "cell_type": "code",
   "execution_count": 2,
   "metadata": {},
   "outputs": [
    {
     "data": {
      "image/png": "[encoded data removed]",
      "text/plain": [
       "<Figure size 640x480 with 1 Axes>"
      ]
     },
     "metadata": {},
     "output_type": "display_data"
    }
   ],
   "source": [
    "import matplotlib.pyplot as plt\n",
    "import numpy as np\n",
    "from sklearn import metrics\n",
    "y = np.array([0, 0, 1, 1])\n",
    "pred = np.array([0.1, 0.4, 0.35, 0.8])\n",
    "fpr, tpr, thresholds = metrics.roc_curve(y, pred)\n",
    "roc_auc = metrics.auc(fpr, tpr)\n",
    "display = metrics.RocCurveDisplay(fpr=fpr, tpr=tpr, roc_auc=roc_auc,\n",
    "                                   estimator_name='example estimator')\n",
    "display.plot()\n",
    "\n",
    "plt.show()"
   ]
  },
  {
   "cell_type": "code",
   "execution_count": null,
   "metadata": {},
   "outputs": [],
   "source": []
  }
 ],
 "metadata": {
  "kernelspec": {
   "display_name": "Python 3",
   "language": "python",
   "name": "python3"
  },
  "language_info": {
   "codemirror_mode": {
    "name": "ipython",
    "version": 3
   },
   "file_extension": ".py",
   "mimetype": "text/x-python",
   "name": "python",
   "nbconvert_exporter": "python",
   "pygments_lexer": "ipython3",
   "version": "3.12.2"
  }
 },
 "nbformat": 4,
 "nbformat_minor": 5
}
