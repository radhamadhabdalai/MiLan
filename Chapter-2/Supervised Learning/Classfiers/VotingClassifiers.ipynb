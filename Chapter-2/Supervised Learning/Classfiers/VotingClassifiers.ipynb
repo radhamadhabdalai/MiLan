{
 "cells": [
  {
   "cell_type": "code",
   "execution_count": 11,
   "id": "6504cfe2-b62c-4483-b010-022dcefc2689",
   "metadata": {},
   "outputs": [
    {
     "name": "stdout",
     "output_type": "stream",
     "text": [
      "[0. 1. 2. 0. 3. 3. 3. 2. 3. 0. 3. 1. 2. 2. 0. 0. 1. 1. 3. 0.]\n"
     ]
    },
    {
     "name": "stderr",
     "output_type": "stream",
     "text": [
      "/home/iter/anaconda3/envs/ml/lib/python3.12/site-packages/sklearn/linear_model/_logistic.py:460: ConvergenceWarning: lbfgs failed to converge (status=1):\n",
      "STOP: TOTAL NO. of ITERATIONS REACHED LIMIT.\n",
      "\n",
      "Increase the number of iterations (max_iter) or scale the data as shown in:\n",
      "    https://scikit-learn.org/stable/modules/preprocessing.html\n",
      "Please also refer to the documentation for alternative solver options:\n",
      "    https://scikit-learn.org/stable/modules/linear_model.html#logistic-regression\n",
      "  n_iter_i = _check_optimize_result(\n",
      "/home/iter/anaconda3/envs/ml/lib/python3.12/site-packages/sklearn/linear_model/_logistic.py:460: ConvergenceWarning: lbfgs failed to converge (status=1):\n",
      "STOP: TOTAL NO. of ITERATIONS REACHED LIMIT.\n",
      "\n",
      "Increase the number of iterations (max_iter) or scale the data as shown in:\n",
      "    https://scikit-learn.org/stable/modules/preprocessing.html\n",
      "Please also refer to the documentation for alternative solver options:\n",
      "    https://scikit-learn.org/stable/modules/linear_model.html#logistic-regression\n",
      "  n_iter_i = _check_optimize_result(\n"
     ]
    },
    {
     "name": "stdout",
     "output_type": "stream",
     "text": [
      "LogisticRegression 0.6\n",
      "RandomForestClassifier 0.95\n",
      "SVC 0.2\n"
     ]
    },
    {
     "name": "stderr",
     "output_type": "stream",
     "text": [
      "/home/iter/anaconda3/envs/ml/lib/python3.12/site-packages/sklearn/linear_model/_logistic.py:460: ConvergenceWarning: lbfgs failed to converge (status=1):\n",
      "STOP: TOTAL NO. of ITERATIONS REACHED LIMIT.\n",
      "\n",
      "Increase the number of iterations (max_iter) or scale the data as shown in:\n",
      "    https://scikit-learn.org/stable/modules/preprocessing.html\n",
      "Please also refer to the documentation for alternative solver options:\n",
      "    https://scikit-learn.org/stable/modules/linear_model.html#logistic-regression\n",
      "  n_iter_i = _check_optimize_result(\n"
     ]
    },
    {
     "name": "stdout",
     "output_type": "stream",
     "text": [
      "VotingClassifier 0.65\n"
     ]
    }
   ],
   "source": [
    "## Ensemble classifiers (Voting classifers)\n",
    "#routine method for converting categorical(qualititaive data) to numerical data\n",
    "import pandas as pd\n",
    "import numpy as np\n",
    "import matplotlib\n",
    "from sklearn.model_selection import train_test_split,RandomizedSearchCV\n",
    "from scipy.stats import randint\n",
    "\n",
    "\n",
    "## For Decision Tree classifier\n",
    "from six import StringIO\n",
    "from IPython.display import Image\n",
    "import pydotplus\n",
    "import graphviz\n",
    "\n",
    "from sklearn.ensemble import RandomForestClassifier, VotingClassifier\n",
    "from sklearn.linear_model import LogisticRegression\n",
    "from sklearn.svm import SVC\n",
    "from sklearn.tree import export_graphviz, DecisionTreeClassifier\n",
    "from sklearn.metrics import (accuracy_score, confusion_matrix, consensus_score, ConfusionMatrixDisplay, f1_score, classification_report)\n",
    "\n",
    "data = pd.read_csv('fruit_data.csv')\n",
    "df = pd.DataFrame(data)\n",
    "class_names = df['fruit_name'].unique()\n",
    "\n",
    "#print(df)\n",
    "cat_columns = df.select_dtypes(['object']).columns\n",
    "df[cat_columns] = df[cat_columns].apply(lambda x: pd.factorize(x)[0])\n",
    "\n",
    "# print dataframe\n",
    "#df  \n",
    "X = df.to_numpy()\n",
    "X1 = X[:, 3:7]   ## features  : X -> x1, x2,.....xn\n",
    "Y1 = X[:,1]      # Output : Y\n",
    "# Now split the data into Training and Testing dataset\n",
    "# Routine method for splitting numpy data\n",
    "# Now split the data into Training and Testing dataset\n",
    "# Routine method for splitting numpy data\n",
    "X_train, X_test ,Y_train, Y_test = train_test_split(X1,Y1,test_size=0.33 , random_state= 42)\n",
    "\n",
    "## Now select the model and fit the data\n",
    "## Find perform## Ensemble classifiers (Bagginng)\n",
    "#routine method for converting categorical(qualititaive data) to numerical data\n",
    "print(Y_test)\n",
    "\n",
    "RF = RandomForestClassifier(n_estimators = 500, max_leaf_nodes = 16, n_jobs = -1)\n",
    "SV = SVC()\n",
    "LR = LogisticRegression()\n",
    "\n",
    "model = VotingClassifier(estimators = [('lr', LR), ('rf', RF), ('svc', SV)], voting = 'hard') \n",
    "model.fit(X_train, Y_train)\n",
    "\n",
    "## hyper-parameters tuning\n",
    "## Later\n",
    "## similiar performance metrics as precision, accuracy and recall\n",
    "for clf in (LR, RF, SV, model):\n",
    "    if (clf ==LR):\n",
    "        # Y_test = Y_test.reshape(1,-1)\n",
    "        clf.fit(X_train, Y_train)\n",
    "        Y_pred = clf.predict(X_test)\n",
    "        print(clf.__class__.__name__,accuracy_score(Y_test,Y_pred))\n",
    "    else :\n",
    "        clf.fit(X_train, Y_train)\n",
    "        Y_pred = clf.predict(X_test)\n",
    "        print(clf.__class__.__name__,accuracy_score(Y_test,Y_pred))\n",
    "\n",
    "\n",
    "\n",
    "# hyper-parameters tuning"
   ]
  },
  {
   "cell_type": "code",
   "execution_count": null,
   "id": "671c9ace-9640-49b5-9ae9-a2cf33791348",
   "metadata": {},
   "outputs": [],
   "source": []
  }
 ],
 "metadata": {
  "kernelspec": {
   "display_name": "Python 3 (ipykernel)",
   "language": "python",
   "name": "python3"
  },
  "language_info": {
   "codemirror_mode": {
    "name": "ipython",
    "version": 3
   },
   "file_extension": ".py",
   "mimetype": "text/x-python",
   "name": "python",
   "nbconvert_exporter": "python",
   "pygments_lexer": "ipython3",
   "version": "3.12.2"
  }
 },
 "nbformat": 4,
 "nbformat_minor": 5
}
