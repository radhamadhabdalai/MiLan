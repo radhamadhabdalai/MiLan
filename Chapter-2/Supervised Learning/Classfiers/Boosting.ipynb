{
 "cells": [
  {
   "cell_type": "code",
   "execution_count": 4,
   "id": "41299569-220b-4e2e-8757-91d85c757610",
   "metadata": {},
   "outputs": [
    {
     "name": "stdout",
     "output_type": "stream",
     "text": [
      "Accuracy : 0.3\n",
      "F1 score :  0.4\n"
     ]
    }
   ],
   "source": [
    "## Ensemble classifiers (Boosting:Adaboost)\n",
    "#routine method for converting categorical(qualititaive data) to numerical data\n",
    "import pandas as pd\n",
    "import numpy as np\n",
    "import matplotlib\n",
    "from sklearn.model_selection import train_test_split,RandomizedSearchCV\n",
    "from scipy.stats import randint\n",
    "\n",
    "\n",
    "## For Decision Tree classifier\n",
    "from six import StringIO\n",
    "from IPython.display import Image\n",
    "import pydotplus\n",
    "import graphviz\n",
    "\n",
    "from sklearn.ensemble import AdaBoostClassifier\n",
    "from sklearn.svm import SVC\n",
    "from sklearn.tree import export_graphviz, DecisionTreeClassifier\n",
    "from sklearn.metrics import (accuracy_score, confusion_matrix, consensus_score, ConfusionMatrixDisplay, f1_score, classification_report)\n",
    "\n",
    "data = pd.read_csv('fruit_data.csv')\n",
    "df = pd.DataFrame(data)\n",
    "class_names = df['fruit_name'].unique()\n",
    "\n",
    "#print(df)\n",
    "cat_columns = df.select_dtypes(['object']).columns\n",
    "df[cat_columns] = df[cat_columns].apply(lambda x: pd.factorize(x)[0])\n",
    "\n",
    "# print dataframe\n",
    "#df  \n",
    "X = df.to_numpy()\n",
    "X1 = X[:, 3:7]   ## features  : X -> x1, x2,.....xn\n",
    "Y1 = X[:,1]      # Output : Y\n",
    "# Now split the data into Training and Testing dataset\n",
    "# Routine method for splitting numpy data\n",
    "# Now split the data into Training and Testing dataset\n",
    "# Routine method for splitting numpy data\n",
    "X_train, X_test ,Y_train, Y_test = train_test_split(X1,Y1,test_size=0.33 , random_state= 42)\n",
    "\n",
    "## Now select the model and fit the data\n",
    "## Find perform## Ensemble classifiers (Bagginng)\n",
    "#routine method for converting categorical(qualititaive data) to numerical data\n",
    "\n",
    "# different learning estimators\n",
    "\n",
    "SV = SVC(probability=True, kernel='linear')\n",
    "# model =  AdaBoostClassifier(n_estimators = 50, learning_rate = 1) # by default it uses DecisionTreeCLassifier\n",
    "model =  AdaBoostClassifier(n_estimators = 50, estimator=SV, learning_rate = 1) \n",
    "\n",
    "\n",
    "model.fit(X_train, Y_train)\n",
    "Y_pred = model.predict(X_test)\n",
    "\n",
    "\n",
    "## performance metrics\n",
    "\n",
    "accuracy = accuracy_score(Y_pred,Y_test)\n",
    "f1 = f1_score(Y_pred, Y_test, average= 'weighted')\n",
    "\n",
    "print(\"Accuracy :\", accuracy)\n",
    "print(\"F1 score : \", f1)\n"
   ]
  },
  {
   "cell_type": "code",
   "execution_count": null,
   "id": "073656f8-ddfc-4a81-871c-9657039f64bd",
   "metadata": {},
   "outputs": [],
   "source": []
  }
 ],
 "metadata": {
  "kernelspec": {
   "display_name": "Python 3 (ipykernel)",
   "language": "python",
   "name": "python3"
  },
  "language_info": {
   "codemirror_mode": {
    "name": "ipython",
    "version": 3
   },
   "file_extension": ".py",
   "mimetype": "text/x-python",
   "name": "python",
   "nbconvert_exporter": "python",
   "pygments_lexer": "ipython3",
   "version": "3.12.2"
  }
 },
 "nbformat": 4,
 "nbformat_minor": 5
}
