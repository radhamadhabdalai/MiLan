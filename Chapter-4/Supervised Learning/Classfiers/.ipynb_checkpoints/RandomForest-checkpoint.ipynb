{
 "cells": [
  {
   "cell_type": "code",
   "execution_count": null,
   "metadata": {},
   "outputs": [],
   "source": [
    "######################################################################################\n",
    "Copyright (c) 2023, 2024 , Prof. Radhamadhab Dalai, ITER , Siksha O Aanusandhan University, \n",
    "Odisha, India\n",
    "Author's email address :  radhamadhabdalai@soa.ac.in\n",
    "#####################################################################################"
   ]
  },
  {
   "cell_type": "code",
   "execution_count": 2,
   "metadata": {},
   "outputs": [
    {
     "name": "stderr",
     "output_type": "stream",
     "text": [
      "/home/iter/anaconda3/envs/ml/lib/python3.12/site-packages/sklearn/model_selection/_split.py:725: UserWarning: The least populated class in y has only 1 members, which is less than n_splits=5.\n",
      "  warnings.warn(\n"
     ]
    },
    {
     "name": "stdout",
     "output_type": "stream",
     "text": [
      "Best hyperparameters: {'max_depth': 18, 'n_estimators': 346}\n"
     ]
    },
    {
     "data": {
      "image/png": "[encoded data removed]",
      "text/plain": [
       "<Figure size 640x480 with 2 Axes>"
      ]
     },
     "metadata": {},
     "output_type": "display_data"
    }
   ],
   "source": [
    "## Ensemble classifiers (Random Forest)\n",
    "#routine method for converting categorical(qualititaive data) to numerical data\n",
    "import pandas as pd\n",
    "import numpy as np\n",
    "import matplotlib\n",
    "from sklearn.model_selection import train_test_split,RandomizedSearchCV\n",
    "from scipy.stats import randint\n",
    "\n",
    "\n",
    "## For Decision Tree classifier\n",
    "from six import StringIO\n",
    "from IPython.display import Image\n",
    "import pydotplus\n",
    "import graphviz\n",
    "\n",
    "from sklearn.ensemble import RandomForestClassifier\n",
    "from sklearn.tree import export_graphviz\n",
    "from sklearn.pipeline import Pipeline\n",
    "from sklearn.metrics import (accuracy_score, confusion_matrix, consensus_score, ConfusionMatrixDisplay, f1_score, classification_report)\n",
    "\n",
    "data = pd.read_csv('fruit_data.csv')\n",
    "df = pd.DataFrame(data)\n",
    "class_names = df['fruit_name'].unique()\n",
    "\n",
    "#print(df)\n",
    "cat_columns = df.select_dtypes(['object']).columns\n",
    "df[cat_columns] = df[cat_columns].apply(lambda x: pd.factorize(x)[0])\n",
    "\n",
    "# print dataframe\n",
    "#df  \n",
    "X = df.to_numpy()\n",
    "X1 = X[:, 3:7]   ## features  : X -> x1, x2,.....xn\n",
    "Y1 = X[:,1]      # Output : Y\n",
    "# Now split the data into Training and Testing dataset\n",
    "# Routine method for splitting numpy data\n",
    "# Now split the data into Training and Testing dataset\n",
    "# Routine method for splitting numpy data\n",
    "X_train, X_test ,Y_train, Y_test = train_test_split(X1,Y1,test_size=0.33 , random_state= 42)\n",
    "\n",
    "## Now select the model and fit the data\n",
    "## Find performance metrices for SVM\n",
    "\n",
    "\n",
    "# # model = DecisionTreeClassifier()\n",
    "# model = RandomForestClassifier(n_estimators = 500, max_leaf_nodes = 16, n_jobs = -1) ## good for depth = 6 or 7\n",
    "# model.fit(X_train, Y_train)\n",
    "\n",
    "## hyper-parameters tuning\n",
    "\n",
    "param_dist = { 'n_estimators' : randint(50, 500) , 'max_depth' : randint(1,20)}\n",
    "model = RandomForestClassifier()\n",
    "\n",
    "rf_search = RandomizedSearchCV(model, param_distributions=param_dist, n_iter=5, cv =5)\n",
    "\n",
    "rf_search.fit(X_train, Y_train)\n",
    "\n",
    "# Create a variable for the best model\n",
    "best_rf = rf_search.best_estimator_\n",
    "\n",
    "# Print the best hyperparameters\n",
    "print('Best hyperparameters:',  rf_search.best_params_)\n",
    "\n",
    "# Generate predictions with the best model\n",
    "Y_pred = best_rf.predict(X_test)\n",
    "\n",
    "# Create the confusion matrix\n",
    "cm = confusion_matrix(Y_test, Y_pred)\n",
    "\n",
    "ConfusionMatrixDisplay(confusion_matrix=cm).plot();\n",
    "\n",
    "## similiar performance metrics as precision, accuracy and recall\n",
    "\n",
    "# Y_pred = model.predict(X_test)\n",
    "\n",
    "# accuracy = accuracy_score(Y_pred,Y_test) * 100\n",
    "# f1 = f1_score(Y_pred, Y_test, average= 'weighted')\n",
    "\n",
    "# print(\"Accuracy :\", accuracy)\n",
    "# print(\"F1 score : \", f1)\n",
    "\n",
    "# #### Now display confusion matrix fory_pred apple , orange atleast\n",
    "# ## Visualize data using graphviz \n",
    "# dot_data = StringIO()\n",
    "# # feature_cols  = ['fruit_name', 'fruit_label', 'fruit_subtype','mass', 'width', 'height', 'color_score']\n",
    "# feature_cols  = ['mass', 'width', 'height', 'color_score']\n",
    "\n",
    "\n",
    "# for i in range(3):\n",
    "#     tree = model.estimators_[i] \n",
    "#     dot_data = export_graphviz(tree, feature_names = feature_cols,  \n",
    "#                 filled=True, max_depth = 2, proportion = True,impurity = False)\n",
    "#     graph = graphviz.Source(dot_data)\n",
    "#     display(graph)\n",
    "\n",
    "\n",
    "\n",
    "## hyper-parameters tuning"
   ]
  },
  {
   "cell_type": "code",
   "execution_count": null,
   "metadata": {},
   "outputs": [],
   "source": []
  }
 ],
 "metadata": {
  "kernelspec": {
   "display_name": "Python 3",
   "language": "python",
   "name": "python3"
  },
  "language_info": {
   "codemirror_mode": {
    "name": "ipython",
    "version": 3
   },
   "file_extension": ".py",
   "mimetype": "text/x-python",
   "name": "python",
   "nbconvert_exporter": "python",
   "pygments_lexer": "ipython3",
   "version": "3.12.2"
  }
 },
 "nbformat": 4,
 "nbformat_minor": 5
}
