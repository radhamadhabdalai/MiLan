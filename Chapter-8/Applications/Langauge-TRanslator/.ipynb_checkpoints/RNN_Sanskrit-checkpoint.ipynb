{
 "cells": [
  {
   "cell_type": "code",
   "execution_count": 1,
   "metadata": {},
   "outputs": [
    {
     "ename": "ModuleNotFoundError",
     "evalue": "No module named 'tensorflow'",
     "output_type": "error",
     "traceback": [
      "\u001b[0;31m---------------------------------------------------------------------------\u001b[0m",
      "\u001b[0;31mModuleNotFoundError\u001b[0m                       Traceback (most recent call last)",
      "\u001b[0;32m/tmp/ipykernel_7012/4019007806.py\u001b[0m in \u001b[0;36m<module>\u001b[0;34m\u001b[0m\n\u001b[1;32m      1\u001b[0m \u001b[0;31m# dependencies\u001b[0m\u001b[0;34m\u001b[0m\u001b[0;34m\u001b[0m\u001b[0;34m\u001b[0m\u001b[0m\n\u001b[0;32m----> 2\u001b[0;31m \u001b[0;32mimport\u001b[0m \u001b[0mtensorflow\u001b[0m \u001b[0;32mas\u001b[0m \u001b[0mtf\u001b[0m\u001b[0;34m\u001b[0m\u001b[0;34m\u001b[0m\u001b[0m\n\u001b[0m\u001b[1;32m      3\u001b[0m \u001b[0;32mimport\u001b[0m \u001b[0mnumpy\u001b[0m \u001b[0;32mas\u001b[0m \u001b[0mnp\u001b[0m\u001b[0;34m\u001b[0m\u001b[0;34m\u001b[0m\u001b[0m\n\u001b[1;32m      4\u001b[0m \u001b[0;32mfrom\u001b[0m \u001b[0msklearn\u001b[0m\u001b[0;34m.\u001b[0m\u001b[0mmodel_selection\u001b[0m \u001b[0;32mimport\u001b[0m \u001b[0mtrain_test_split\u001b[0m\u001b[0;34m\u001b[0m\u001b[0;34m\u001b[0m\u001b[0m\n\u001b[1;32m      5\u001b[0m \u001b[0;32mimport\u001b[0m \u001b[0mtime\u001b[0m\u001b[0;34m\u001b[0m\u001b[0;34m\u001b[0m\u001b[0m\n",
      "\u001b[0;31mModuleNotFoundError\u001b[0m: No module named 'tensorflow'"
     ]
    }
   ],
   "source": [
    "#Copyright (c) 2023, 2024 Radhamadhab Dalai, ITER , Siksha O Aanusandhan University, \n",
    "#Odisha, India\n",
    "#Author's email address :  radhamadhabdalai@soa.ac.in\n",
    "# import\n",
    "import tensorflow as tf\n",
    "import numpy as np\n",
    "from sklearn.model_selection import train_test_split\n",
    "import time\n",
    "import pickle\n",
    "import data_utils\n",
    "import matplotlib.pyplot as plt\n",
    "import re\n",
    "import pandas as pd\n",
    "from nltk.translate.bleu_score import sentence_bleu"
   ]
  },
  {
   "cell_type": "code",
   "execution_count": 4,
   "metadata": {},
   "outputs": [],
   "source": [
    "from collections import Counter\n",
    "\n",
    "def read_sentences(file_path):\n",
    "\tsentences = []\n",
    "\n",
    "\twith open(file_path, 'r') as reader:\n",
    "\t\tfor s in reader:\n",
    "\t\t\tsentences.append(s.strip())\n",
    "\n",
    "\treturn sentences\n",
    "\n",
    "def iteritems(dic):\n",
    "    return iter([(key, dic[key]) for key in dic])\n",
    "\n",
    "def create_dataset(en_sentences, sn_sentences):\n",
    "\n",
    "\ten_vocab_dict = Counter(word.strip(',.\" ;:)(][?!') for sentence in en_sentences for word in sentence.split())\n",
    "\tsn_vocab_dict = Counter(word.strip(',.\" ;:)(][?!') for sentence in sn_sentences for word in sentence.split())\n",
    "\n",
    "\ten_vocab = list(map(lambda x: x[0], sorted(en_vocab_dict.items(), key = lambda x: -x[1])))\n",
    "\tsn_vocab = list(map(lambda x: x[0], sorted(sn_vocab_dict.items(), key = lambda x: -x[1])))\n",
    "\n",
    "\ten_vocab = en_vocab[:20000]\n",
    "\tsn_vocab = sn_vocab[:30000]\n",
    "\n",
    "\tstart_idx = 2\n",
    "\ten_word2idx = dict([(word, idx+start_idx) for idx, word in enumerate(en_vocab)])\n",
    "\ten_word2idx['<ukn>'] = 0\n",
    "\ten_word2idx['<pad>'] = 1\n",
    "\n",
    "\ten_idx2word = dict([(idx, word) for word, idx in iteritems(en_word2idx)])\n",
    "\n",
    "\n",
    "\tstart_idx = 4\n",
    "\tsn_word2idx = dict([(word, idx+start_idx) for idx, word in enumerate(sn_vocab)])\n",
    "\tsn_word2idx['<ukn>'] = 0\n",
    "\tsn_word2idx['<go>']  = 1\n",
    "\tsn_word2idx['<eos>'] = 2\n",
    "\tsn_word2idx['<pad>'] = 3\n",
    "\n",
    "\tsn_idx2word = dict([(idx, word) for word, idx in iteritems(sn_word2idx)])\n",
    "\n",
    "\tx = [[en_word2idx.get(word.strip(',.\" ;:)(][?!'), 0) for word in sentence.split()] for sentence in en_sentences]\n",
    "\ty = [[sn_word2idx.get(word.strip(',.\" ;:)(][?!'), 0) for word in sentence.split()] for sentence in sn_sentences]\n",
    "\n",
    "\tX = []\n",
    "\tY = []\n",
    "\tfor i in range(len(x)):\n",
    "\t\tn1 = len(x[i])\n",
    "\t\tn2 = len(y[i])\n",
    "\t\tn = n1 if n1 < n2 else n2 \n",
    "\t\tif abs(n1 - n2) <= 0.3 * n:\n",
    "\t\t\tif n1 <= 15 and n2 <= 15:\n",
    "\t\t\t\tX.append(x[i])\n",
    "\t\t\t\tY.append(y[i])\n",
    "\n",
    "\treturn X, Y, en_word2idx, en_idx2word, en_vocab, sn_word2idx, sn_idx2word, sn_vocab\n",
    "\n",
    "def save_dataset(file_path, obj):\n",
    "\twith open(file_path, 'wb') as f:\n",
    "\t\tpickle.dump(obj, f, -1)\n",
    "\n",
    "def main():\n",
    "    en_sentences = read_sentences('./Data/bible.en')\n",
    "    sn_sentences = read_sentences('./Data/bible.san')\n",
    "\n",
    "    save_dataset('./Data/bible2.pkl', create_dataset(sn_sentences, en_sentences))"
   ]
  },
  {
   "cell_type": "code",
   "execution_count": 5,
   "metadata": {},
   "outputs": [],
   "source": [
    "main()"
   ]
  },
  {
   "cell_type": "code",
   "execution_count": 6,
   "metadata": {},
   "outputs": [],
   "source": [
    "def convert_sanskrit(uni):\n",
    "    a = bytearray(uni, encoding = \"utf-8\").decode('unicode-escape')\n",
    "    return a"
   ]
  },
  {
   "cell_type": "code",
   "execution_count": 15,
   "metadata": {},
   "outputs": [],
   "source": [
    "# read dataset\n",
    "def read_dataset(file_path):\n",
    "    with open(file_path, 'rb') as f:\n",
    "        return pickle.load(f,encoding=\"utf_8\")\n",
    "\n",
    "X, Y, sn_word2idx, sn_idx2word, sn_vocab, en_word2idx, en_idx2word, en_vocab = read_dataset('./Data/data.pkl')"
   ]
  },
  {
   "cell_type": "code",
   "execution_count": 17,
   "metadata": {},
   "outputs": [
    {
     "name": "stdout",
     "output_type": "stream",
     "text": [
      "Sentence in Sanskrit - encoded: [688, 1181, 506, 6, 1181, 11328, 0]\n",
      "Sentence in English - encoded: [5, 583, 6, 5, 462, 6, 39, 139, 0, 5, 62, 6, 333, 0, 5, 62, 6, 328, 0]\n",
      "Decoded:\n",
      "------------------------\n",
      "तस्य पुत्रो ऽम्मीनादब् तस्य पुत्रो नहशोन् तस्य पुत्रः सल्मोन्। \n",
      "\n",
      "and aram begat aminadab <ukn> and aminadab begat naasson <ukn> and naasson begat salmon <ukn> "
     ]
    }
   ],
   "source": [
    "#inspecting data\n",
    "print('Sentence in Sanskrit - encoded:', X[0])\n",
    "print('Sentence in English - encoded:', Y[0])\n",
    "print('Decoded:\\n------------------------')\n",
    "\n",
    "for i in range(len(X[3])):\n",
    "    print(convert_sanskrit(sn_idx2word[X[3][i]]), end = \" \")\n",
    "    \n",
    "print('\\n')\n",
    "\n",
    "for i in range(len(Y[3])):\n",
    "    print(en_idx2word[Y[3][i]], end = \" \")"
   ]
  },
  {
   "cell_type": "code",
   "execution_count": 18,
   "metadata": {},
   "outputs": [
    {
     "name": "stdout",
     "output_type": "stream",
     "text": [
      "11.58403468502933\n",
      "21.631981637337415\n"
     ]
    }
   ],
   "source": [
    "print(sum([len(sentence) for sentence in X]) / len(X))\n",
    "print(sum([len(sentence) for sentence in Y]) / len(Y))"
   ]
  },
  {
   "cell_type": "code",
   "execution_count": 19,
   "metadata": {},
   "outputs": [],
   "source": [
    "# data processing\n",
    "\n",
    "# data padding\n",
    "def data_padding(x, y, length = 10):\n",
    "    for i in range(len(x)):\n",
    "        x[i] = x[i] + (length - len(x[i])) * [sn_word2idx['<pad>']]\n",
    "        y[i] = [en_word2idx['<go>']] + y[i] + [en_word2idx['<eos>']] + (length-len(y[i])) * [en_word2idx['<pad>']]\n",
    "\n",
    "data_padding(X, Y)\n",
    "\n",
    "# data splitting\n",
    "X_train,  X_test, Y_train, Y_test = train_test_split(X, Y, test_size = 0.1)\n",
    "\n",
    "del X\n",
    "del Y"
   ]
  },
  {
   "cell_type": "code",
   "execution_count": 21,
   "metadata": {},
   "outputs": [],
   "source": [
    "input_seq_len = 10\n",
    "output_seq_len = 12\n",
    "sn_vocab_size = len(sn_vocab) + 2 # + <pad>, <ukn>\n",
    "en_vocab_size = len(en_vocab) + 4 # + <pad>, <ukn>, <eos>, <go>\n",
    "\n",
    "# placeholders\n",
    "encoder_inputs = [tf.placeholder(dtype = tf.int32, shape = [None], name = 'encoder{}'.format(i)) for i in range(input_seq_len)]\n",
    "decoder_inputs = [tf.placeholder(dtype = tf.int32, shape = [None], name = 'decoder{}'.format(i)) for i in range(output_seq_len)]\n",
    "\n",
    "targets = [decoder_inputs[i+1] for i in range(output_seq_len-1)]\n",
    "# add one more target\n",
    "targets.append(tf.placeholder(dtype = tf.int32, shape = [None], name = 'last_target'))\n",
    "target_weights = [tf.placeholder(dtype = tf.float32, shape = [None], name = 'target_w{}'.format(i)) for i in range(output_seq_len)]\n",
    "\n",
    "# output projection\n",
    "size = 512\n",
    "w_t = tf.get_variable('proj_w', [en_vocab_size, size], tf.float32)\n",
    "b = tf.get_variable('proj_b', [en_vocab_size], tf.float32)\n",
    "w = tf.transpose(w_t)\n",
    "output_projection = (w, b)\n",
    "\n",
    "outputs, states = tf.contrib.legacy_seq2seq.embedding_attention_seq2seq(\n",
    "                                            encoder_inputs,\n",
    "                                            decoder_inputs,\n",
    "                                            tf.contrib.rnn.BasicLSTMCell(size),\n",
    "                                            num_encoder_symbols = sn_vocab_size,\n",
    "                                            num_decoder_symbols = en_vocab_size,\n",
    "                                            embedding_size = 100,\n",
    "                                            feed_previous = False,\n",
    "                                            output_projection = output_projection,\n",
    "                                            dtype = tf.float32)"
   ]
  },
  {
   "cell_type": "code",
   "execution_count": 22,
   "metadata": {},
   "outputs": [
    {
     "name": "stdout",
     "output_type": "stream",
     "text": [
      "WARNING:tensorflow:From /Users/shivanikohli/Documents/anaconda3/lib/python3.6/site-packages/tensorflow/python/ops/nn_impl.py:1346: softmax_cross_entropy_with_logits (from tensorflow.python.ops.nn_ops) is deprecated and will be removed in a future version.\n",
      "Instructions for updating:\n",
      "\n",
      "Future major versions of TensorFlow will allow gradients to flow\n",
      "into the labels input on backprop by default.\n",
      "\n",
      "See tf.nn.softmax_cross_entropy_with_logits_v2.\n",
      "\n"
     ]
    }
   ],
   "source": [
    "# define our loss function\n",
    "\n",
    "def sampled_loss(labels, logits):\n",
    "    return tf.nn.sampled_softmax_loss(\n",
    "                        weights = w_t,\n",
    "                        biases = b,\n",
    "                        labels = tf.reshape(labels, [-1, 1]),\n",
    "                        inputs = logits,\n",
    "                        num_sampled = 512,\n",
    "                        num_classes = en_vocab_size)\n",
    "\n",
    "# Weighted cross-entropy loss for a sequence of logits\n",
    "loss = tf.contrib.legacy_seq2seq.sequence_loss(outputs, targets, target_weights, softmax_loss_function = sampled_loss)"
   ]
  },
  {
   "cell_type": "code",
   "execution_count": 29,
   "metadata": {},
   "outputs": [],
   "source": [
    "# let's define some helper functions\n",
    "\n",
    "# simple softmax function\n",
    "def softmax(x):\n",
    "    n = np.max(x)\n",
    "    e_x = np.exp(x - n)\n",
    "    return e_x / e_x.sum()\n",
    "\n",
    "# feed data into placeholders\n",
    "def feed_dict(x, y, batch_size = 64):\n",
    "    feed = {}\n",
    "    \n",
    "    idxes = np.random.choice(len(x), size = batch_size, replace = False)\n",
    "    \n",
    "    for i in range(input_seq_len):\n",
    "        feed[encoder_inputs[i].name] = np.array([x[j][i] for j in idxes], dtype = np.int32)\n",
    "        \n",
    "    for i in range(output_seq_len):\n",
    "        feed[decoder_inputs[i].name] = np.array([y[j][i] for j in idxes], dtype = np.int32)\n",
    "        \n",
    "    feed[targets[len(targets)-1].name] = np.full(shape = [batch_size], fill_value = en_word2idx['<pad>'], dtype = np.int32)\n",
    "    \n",
    "    for i in range(output_seq_len-1):\n",
    "        batch_weights = np.ones(batch_size, dtype = np.float32)\n",
    "        target = feed[decoder_inputs[i+1].name]\n",
    "        for j in range(batch_size):\n",
    "            if target[j] == en_word2idx['<pad>']:\n",
    "                batch_weights[j] = 0.0\n",
    "        feed[target_weights[i].name] = batch_weights\n",
    "        \n",
    "    feed[target_weights[output_seq_len-1].name] = np.zeros(batch_size, dtype = np.float32)\n",
    "    \n",
    "    return feed\n",
    "\n",
    "# decode output sequence\n",
    "def decode_output(output_seq):\n",
    "    words = []\n",
    "    for i in range(output_seq_len):\n",
    "        smax = softmax(output_seq[i])\n",
    "        idx = np.argmax(smax)\n",
    "        words.append(de_idx2word[idx])\n",
    "    return words"
   ]
  },
  {
   "cell_type": "code",
   "execution_count": 24,
   "metadata": {},
   "outputs": [],
   "source": [
    "saver = tf.train.Saver()"
   ]
  },
  {
   "cell_type": "code",
   "execution_count": 30,
   "metadata": {},
   "outputs": [],
   "source": [
    "# ops and hyperparameters\n",
    "learning_rate = 0.002\n",
    "batch_size = 512\n",
    "steps = 20000\n",
    "\n",
    "# ops for projecting outputs\n",
    "outputs_proj = [tf.matmul(outputs[i], output_projection[0]) + output_projection[1] for i in range(output_seq_len)]\n",
    "\n",
    "# training op\n",
    "optimizer = tf.train.RMSPropOptimizer(learning_rate).minimize(loss)\n",
    "\n",
    "# init op\n",
    "init = tf.global_variables_initializer()\n",
    "\n",
    "# forward step\n",
    "def forward_step(sess, feed):\n",
    "    output_sequences = sess.run(outputs_proj, feed_dict = feed)\n",
    "    return output_sequences\n",
    "\n",
    "# training step\n",
    "def backward_step(sess, feed):\n",
    "    sess.run(optimizer, feed_dict = feed)\n"
   ]
  },
  {
   "cell_type": "code",
   "execution_count": 31,
   "metadata": {},
   "outputs": [],
   "source": [
    "# we will use this list to plot losses through steps\n",
    "losses = []"
   ]
  },
  {
   "cell_type": "code",
   "execution_count": 32,
   "metadata": {
    "collapsed": true,
    "jupyter": {
     "outputs_hidden": true
    }
   },
   "outputs": [
    {
     "name": "stdout",
     "output_type": "stream",
     "text": [
      "------------------TRAINING------------------\n",
      "Running from scratch: generating random model parameters.\n",
      "step: 0, loss: 8.284358978271484\n",
      "step: 4, loss: 8.286918640136719\n"
     ]
    },
    {
     "ename": "KeyboardInterrupt",
     "evalue": "",
     "output_type": "error",
     "traceback": [
      "\u001b[0;31m---------------------------------------------------------------------------\u001b[0m",
      "\u001b[0;31mKeyboardInterrupt\u001b[0m                         Traceback (most recent call last)",
      "\u001b[0;32m<ipython-input-32-d7c5287ffead>\u001b[0m in \u001b[0;36m<module>\u001b[0;34m()\u001b[0m\n\u001b[1;32m     23\u001b[0m         \u001b[0mfeed\u001b[0m \u001b[0;34m=\u001b[0m \u001b[0mfeed_dict\u001b[0m\u001b[0;34m(\u001b[0m\u001b[0mX_train\u001b[0m\u001b[0;34m,\u001b[0m \u001b[0mY_train\u001b[0m\u001b[0;34m)\u001b[0m\u001b[0;34m\u001b[0m\u001b[0m\n\u001b[1;32m     24\u001b[0m \u001b[0;34m\u001b[0m\u001b[0m\n\u001b[0;32m---> 25\u001b[0;31m         \u001b[0mbackward_step\u001b[0m\u001b[0;34m(\u001b[0m\u001b[0msess\u001b[0m\u001b[0;34m,\u001b[0m \u001b[0mfeed\u001b[0m\u001b[0;34m)\u001b[0m\u001b[0;34m\u001b[0m\u001b[0m\n\u001b[0m\u001b[1;32m     26\u001b[0m \u001b[0;34m\u001b[0m\u001b[0m\n\u001b[1;32m     27\u001b[0m         \u001b[0;32mif\u001b[0m \u001b[0mstep\u001b[0m \u001b[0;34m%\u001b[0m \u001b[0;36m5\u001b[0m \u001b[0;34m==\u001b[0m \u001b[0;36m4\u001b[0m \u001b[0;32mor\u001b[0m \u001b[0mstep\u001b[0m \u001b[0;34m==\u001b[0m \u001b[0;36m0\u001b[0m\u001b[0;34m:\u001b[0m\u001b[0;34m\u001b[0m\u001b[0m\n",
      "\u001b[0;32m<ipython-input-30-eab4e0fa9754>\u001b[0m in \u001b[0;36mbackward_step\u001b[0;34m(sess, feed)\u001b[0m\n\u001b[1;32m     20\u001b[0m \u001b[0;31m# training step\u001b[0m\u001b[0;34m\u001b[0m\u001b[0;34m\u001b[0m\u001b[0m\n\u001b[1;32m     21\u001b[0m \u001b[0;32mdef\u001b[0m \u001b[0mbackward_step\u001b[0m\u001b[0;34m(\u001b[0m\u001b[0msess\u001b[0m\u001b[0;34m,\u001b[0m \u001b[0mfeed\u001b[0m\u001b[0;34m)\u001b[0m\u001b[0;34m:\u001b[0m\u001b[0;34m\u001b[0m\u001b[0m\n\u001b[0;32m---> 22\u001b[0;31m     \u001b[0msess\u001b[0m\u001b[0;34m.\u001b[0m\u001b[0mrun\u001b[0m\u001b[0;34m(\u001b[0m\u001b[0moptimizer\u001b[0m\u001b[0;34m,\u001b[0m \u001b[0mfeed_dict\u001b[0m \u001b[0;34m=\u001b[0m \u001b[0mfeed\u001b[0m\u001b[0;34m)\u001b[0m\u001b[0;34m\u001b[0m\u001b[0m\n\u001b[0m",
      "\u001b[0;32m~/Documents/anaconda3/lib/python3.6/site-packages/tensorflow/python/client/session.py\u001b[0m in \u001b[0;36mrun\u001b[0;34m(self, fetches, feed_dict, options, run_metadata)\u001b[0m\n\u001b[1;32m    903\u001b[0m     \u001b[0;32mtry\u001b[0m\u001b[0;34m:\u001b[0m\u001b[0;34m\u001b[0m\u001b[0m\n\u001b[1;32m    904\u001b[0m       result = self._run(None, fetches, feed_dict, options_ptr,\n\u001b[0;32m--> 905\u001b[0;31m                          run_metadata_ptr)\n\u001b[0m\u001b[1;32m    906\u001b[0m       \u001b[0;32mif\u001b[0m \u001b[0mrun_metadata\u001b[0m\u001b[0;34m:\u001b[0m\u001b[0;34m\u001b[0m\u001b[0m\n\u001b[1;32m    907\u001b[0m         \u001b[0mproto_data\u001b[0m \u001b[0;34m=\u001b[0m \u001b[0mtf_session\u001b[0m\u001b[0;34m.\u001b[0m\u001b[0mTF_GetBuffer\u001b[0m\u001b[0;34m(\u001b[0m\u001b[0mrun_metadata_ptr\u001b[0m\u001b[0;34m)\u001b[0m\u001b[0;34m\u001b[0m\u001b[0m\n",
      "\u001b[0;32m~/Documents/anaconda3/lib/python3.6/site-packages/tensorflow/python/client/session.py\u001b[0m in \u001b[0;36m_run\u001b[0;34m(self, handle, fetches, feed_dict, options, run_metadata)\u001b[0m\n\u001b[1;32m   1135\u001b[0m     \u001b[0;32mif\u001b[0m \u001b[0mfinal_fetches\u001b[0m \u001b[0;32mor\u001b[0m \u001b[0mfinal_targets\u001b[0m \u001b[0;32mor\u001b[0m \u001b[0;34m(\u001b[0m\u001b[0mhandle\u001b[0m \u001b[0;32mand\u001b[0m \u001b[0mfeed_dict_tensor\u001b[0m\u001b[0;34m)\u001b[0m\u001b[0;34m:\u001b[0m\u001b[0;34m\u001b[0m\u001b[0m\n\u001b[1;32m   1136\u001b[0m       results = self._do_run(handle, final_targets, final_fetches,\n\u001b[0;32m-> 1137\u001b[0;31m                              feed_dict_tensor, options, run_metadata)\n\u001b[0m\u001b[1;32m   1138\u001b[0m     \u001b[0;32melse\u001b[0m\u001b[0;34m:\u001b[0m\u001b[0;34m\u001b[0m\u001b[0m\n\u001b[1;32m   1139\u001b[0m       \u001b[0mresults\u001b[0m \u001b[0;34m=\u001b[0m \u001b[0;34m[\u001b[0m\u001b[0;34m]\u001b[0m\u001b[0;34m\u001b[0m\u001b[0m\n",
      "\u001b[0;32m~/Documents/anaconda3/lib/python3.6/site-packages/tensorflow/python/client/session.py\u001b[0m in \u001b[0;36m_do_run\u001b[0;34m(self, handle, target_list, fetch_list, feed_dict, options, run_metadata)\u001b[0m\n\u001b[1;32m   1353\u001b[0m     \u001b[0;32mif\u001b[0m \u001b[0mhandle\u001b[0m \u001b[0;32mis\u001b[0m \u001b[0;32mNone\u001b[0m\u001b[0;34m:\u001b[0m\u001b[0;34m\u001b[0m\u001b[0m\n\u001b[1;32m   1354\u001b[0m       return self._do_call(_run_fn, self._session, feeds, fetches, targets,\n\u001b[0;32m-> 1355\u001b[0;31m                            options, run_metadata)\n\u001b[0m\u001b[1;32m   1356\u001b[0m     \u001b[0;32melse\u001b[0m\u001b[0;34m:\u001b[0m\u001b[0;34m\u001b[0m\u001b[0m\n\u001b[1;32m   1357\u001b[0m       \u001b[0;32mreturn\u001b[0m \u001b[0mself\u001b[0m\u001b[0;34m.\u001b[0m\u001b[0m_do_call\u001b[0m\u001b[0;34m(\u001b[0m\u001b[0m_prun_fn\u001b[0m\u001b[0;34m,\u001b[0m \u001b[0mself\u001b[0m\u001b[0;34m.\u001b[0m\u001b[0m_session\u001b[0m\u001b[0;34m,\u001b[0m \u001b[0mhandle\u001b[0m\u001b[0;34m,\u001b[0m \u001b[0mfeeds\u001b[0m\u001b[0;34m,\u001b[0m \u001b[0mfetches\u001b[0m\u001b[0;34m)\u001b[0m\u001b[0;34m\u001b[0m\u001b[0m\n",
      "\u001b[0;32m~/Documents/anaconda3/lib/python3.6/site-packages/tensorflow/python/client/session.py\u001b[0m in \u001b[0;36m_do_call\u001b[0;34m(self, fn, *args)\u001b[0m\n\u001b[1;32m   1359\u001b[0m   \u001b[0;32mdef\u001b[0m \u001b[0m_do_call\u001b[0m\u001b[0;34m(\u001b[0m\u001b[0mself\u001b[0m\u001b[0;34m,\u001b[0m \u001b[0mfn\u001b[0m\u001b[0;34m,\u001b[0m \u001b[0;34m*\u001b[0m\u001b[0margs\u001b[0m\u001b[0;34m)\u001b[0m\u001b[0;34m:\u001b[0m\u001b[0;34m\u001b[0m\u001b[0m\n\u001b[1;32m   1360\u001b[0m     \u001b[0;32mtry\u001b[0m\u001b[0;34m:\u001b[0m\u001b[0;34m\u001b[0m\u001b[0m\n\u001b[0;32m-> 1361\u001b[0;31m       \u001b[0;32mreturn\u001b[0m \u001b[0mfn\u001b[0m\u001b[0;34m(\u001b[0m\u001b[0;34m*\u001b[0m\u001b[0margs\u001b[0m\u001b[0;34m)\u001b[0m\u001b[0;34m\u001b[0m\u001b[0m\n\u001b[0m\u001b[1;32m   1362\u001b[0m     \u001b[0;32mexcept\u001b[0m \u001b[0merrors\u001b[0m\u001b[0;34m.\u001b[0m\u001b[0mOpError\u001b[0m \u001b[0;32mas\u001b[0m \u001b[0me\u001b[0m\u001b[0;34m:\u001b[0m\u001b[0;34m\u001b[0m\u001b[0m\n\u001b[1;32m   1363\u001b[0m       \u001b[0mmessage\u001b[0m \u001b[0;34m=\u001b[0m \u001b[0mcompat\u001b[0m\u001b[0;34m.\u001b[0m\u001b[0mas_text\u001b[0m\u001b[0;34m(\u001b[0m\u001b[0me\u001b[0m\u001b[0;34m.\u001b[0m\u001b[0mmessage\u001b[0m\u001b[0;34m)\u001b[0m\u001b[0;34m\u001b[0m\u001b[0m\n",
      "\u001b[0;32m~/Documents/anaconda3/lib/python3.6/site-packages/tensorflow/python/client/session.py\u001b[0m in \u001b[0;36m_run_fn\u001b[0;34m(session, feed_dict, fetch_list, target_list, options, run_metadata)\u001b[0m\n\u001b[1;32m   1338\u001b[0m         \u001b[0;32melse\u001b[0m\u001b[0;34m:\u001b[0m\u001b[0;34m\u001b[0m\u001b[0m\n\u001b[1;32m   1339\u001b[0m           return tf_session.TF_Run(session, options, feed_dict, fetch_list,\n\u001b[0;32m-> 1340\u001b[0;31m                                    target_list, status, run_metadata)\n\u001b[0m\u001b[1;32m   1341\u001b[0m \u001b[0;34m\u001b[0m\u001b[0m\n\u001b[1;32m   1342\u001b[0m     \u001b[0;32mdef\u001b[0m \u001b[0m_prun_fn\u001b[0m\u001b[0;34m(\u001b[0m\u001b[0msession\u001b[0m\u001b[0;34m,\u001b[0m \u001b[0mhandle\u001b[0m\u001b[0;34m,\u001b[0m \u001b[0mfeed_dict\u001b[0m\u001b[0;34m,\u001b[0m \u001b[0mfetch_list\u001b[0m\u001b[0;34m)\u001b[0m\u001b[0;34m:\u001b[0m\u001b[0;34m\u001b[0m\u001b[0m\n",
      "\u001b[0;31mKeyboardInterrupt\u001b[0m: "
     ]
    }
   ],
   "source": [
    "# let's train the model\n",
    "\n",
    "# save a checkpoint so we can restore the model later \n",
    "\n",
    "# checkpointsPath = './checkpoints501previous/'\n",
    "restore = False\n",
    "starting_step = 0\n",
    "\n",
    "print('------------------TRAINING------------------')\n",
    "with tf.Session() as sess:\n",
    "    if (restore):\n",
    "        print('Restoring')\n",
    "        with open(checkpointsPath + 'checkpoint') as f:\n",
    "            starting_step = int(re.match('model_checkpoint_path: \"-([0-9]+)\"', list(f)[0]).groups()[0]) + 1\n",
    "        saver.restore(sess, tf.train.latest_checkpoint(checkpointsPath))\n",
    "        print('Running from step {}'.format(starting_step))\n",
    "    else:\n",
    "        print('Running from scratch: generating random model parameters.')\n",
    "        sess.run(init)\n",
    "    \n",
    "    t = time.time()\n",
    "    for step in range(starting_step, starting_step + steps):\n",
    "        feed = feed_dict(X_train, Y_train)\n",
    "            \n",
    "        backward_step(sess, feed)\n",
    "        \n",
    "        if step % 5 == 4 or step == 0:\n",
    "            loss_value = sess.run(loss, feed_dict = feed)\n",
    "            print('step: {}, loss: {}'.format(step, loss_value))\n",
    "            losses.append(loss_value)\n",
    "        \n",
    "        if step % 20 == 19:\n",
    "            saver.save(sess, checkpointsPath, global_step=step)\n",
    "            print('Checkpoint is saved')\n",
    "            \n",
    "    print('Training time for {} steps: {}s'.format(steps, time.time() - t))"
   ]
  },
  {
   "cell_type": "code",
   "execution_count": 33,
   "metadata": {
    "collapsed": true,
    "jupyter": {
     "outputs_hidden": true
    }
   },
   "outputs": [
    {
     "ename": "AttributeError",
     "evalue": "module 'tensorflow' has no attribute 'restore'",
     "output_type": "error",
     "traceback": [
      "\u001b[0;31m---------------------------------------------------------------------------\u001b[0m",
      "\u001b[0;31mAttributeError\u001b[0m                            Traceback (most recent call last)",
      "\u001b[0;32m<ipython-input-33-54403420fb75>\u001b[0m in \u001b[0;36m<module>\u001b[0;34m()\u001b[0m\n\u001b[0;32m----> 1\u001b[0;31m \u001b[0mtf\u001b[0m\u001b[0;34m.\u001b[0m\u001b[0mrestore\u001b[0m\u001b[0;34m(\u001b[0m\u001b[0;34m)\u001b[0m\u001b[0;34m\u001b[0m\u001b[0m\n\u001b[0m",
      "\u001b[0;31mAttributeError\u001b[0m: module 'tensorflow' has no attribute 'restore'"
     ]
    }
   ],
   "source": [
    "tf.restore()"
   ]
  },
  {
   "cell_type": "code",
   "execution_count": 51,
   "metadata": {
    "scrolled": true
   },
   "outputs": [
    {
     "data": {
      "image/png": "[encoded data removed]",
      "text/plain": [
       "<Figure size 432x288 with 1 Axes>"
      ]
     },
     "metadata": {},
     "output_type": "display_data"
    }
   ],
   "source": [
    "# plot losses\n",
    "\n",
    "with plt.style.context('fivethirtyeight'):\n",
    "    plt.plot(losses, linewidth = 1)\n",
    "    plt.xlabel('Steps (from step {})'.format(starting_step))\n",
    "    plt.ylabel('Losses')\n",
    "    plt.ylim((0, 1))\n",
    "\n",
    "plt.show()"
   ]
  },
  {
   "cell_type": "code",
   "execution_count": 53,
   "metadata": {},
   "outputs": [
    {
     "name": "stdout",
     "output_type": "stream",
     "text": [
      "393\n",
      "INFO:tensorflow:Restoring parameters from ./checkpoints501/-12299\n",
      "1.\n",
      "--------------------------------\n",
      "तस्मात् ते गत्वा तस्य प्रयोजनीयद्रव्याणि संग्रहीतुं शोमिरोणीयानां ग्रामं प्रविविशुः। <pad> <pad> <pad> <pad> <pad> <pad> <pad> <pad> <pad> <pad> <pad> <pad> <pad> <pad> <pad> <pad> <pad> <pad> <pad> <pad> <pad>\n",
      "\\u0924\\u0938\\u094d\\u092e\\u093e\\u0924\\u094d \\u0924\\u0947 \\u0917\\u0924\\u094d\\u0935\\u093e \\u0924\\u0938\\u094d\\u092f \\u092a\\u094d\\u0930\\u092f\\u094b\\u091c\\u0928\\u0940\\u092f\\u0926\\u094d\\u0930\\u0935\\u094d\\u092f\\u093e\\u0923\\u093f \\u0938\\u0902\\u0917\\u094d\\u0930\\u0939\\u0940\\u0924\\u0941\\u0902 \\u0936\\u094b\\u092e\\u093f\\u0930\\u094b\\u0923\\u0940\\u092f\\u093e\\u0928\\u093e\\u0902 \\u0917\\u094d\\u0930\\u093e\\u092e\\u0902 \\u092a\\u094d\\u0930\\u0935\\u093f\\u0935\\u093f\\u0936\\u0941\\u0903\\u0964 <pad> <pad> <pad> <pad> <pad> <pad> <pad> <pad> <pad> <pad> <pad> <pad> <pad> <pad> <pad> <pad> <pad> <pad> <pad> <pad> <pad>\n",
      "Translation:  and they reasoned for every multitude had prayed <ukn> and they could not his brother was healed <ukn> his blood <ukn> him <ukn> him <ukn> him <ukn> \n",
      "   Expected:  and sent messengers before his face <ukn> and they went <ukn> and entered into a village of the samaritans <ukn> to make ready for him <ukn> \n",
      "--------------------------------\n",
      "2.\n",
      "--------------------------------\n",
      "सर्वभूतस्थमात्मानं सर्वभूतानि चात्मनि <ukn> ईक्षते योगयुक्तात्मा सर्वत्र समदर्शन <ukn> <ukn> <ukn> <pad> <pad> <pad> <pad> <pad> <pad> <pad> <pad> <pad> <pad> <pad> <pad> <pad> <pad> <pad> <pad> <pad> <pad> <pad>\n",
      "\\u0938\\u0930\\u094d\\u0935\\u092d\\u0942\\u0924\\u0938\\u094d\\u0925\\u092e\\u093e\\u0924\\u094d\\u092e\\u093e\\u0928\\u0902 \\u0938\\u0930\\u094d\\u0935\\u092d\\u0942\\u0924\\u093e\\u0928\\u093f \\u091a\\u093e\\u0924\\u094d\\u092e\\u0928\\u093f <ukn> \\u0908\\u0915\\u094d\\u0937\\u0924\\u0947 \\u092f\\u094b\\u0917\\u092f\\u0941\\u0915\\u094d\\u0924\\u093e\\u0924\\u094d\\u092e\\u093e \\u0938\\u0930\\u094d\\u0935\\u0924\\u094d\\u0930 \\u0938\\u092e\\u0926\\u0930\\u094d\\u0936\\u0928 <ukn> <ukn> <ukn> <pad> <pad> <pad> <pad> <pad> <pad> <pad> <pad> <pad> <pad> <pad> <pad> <pad> <pad> <pad> <pad> <pad> <pad> <pad>\n",
      "Translation:  and pray over many days <ukn> that they should be received you with the house of many <ukn> many sent down of them <ukn> you <ukn> and them that should \n",
      "   Expected:  the true yogis <ukn> uniting their consciousness with god <ukn> see with equal eye <ukn> all living beings in god and god in all living beings <ukn> \n",
      "--------------------------------\n",
      "3.\n",
      "--------------------------------\n",
      "यतो <ukn> लोकोऽहं यञ्चाहं परिचरामि तदीय एको दूतो ह्यो रात्रौ ममान्तिके तिष्ठन् कथितवान् <ukn> <pad> <pad> <pad> <pad> <pad> <pad> <pad> <pad> <pad> <pad> <pad> <pad> <pad> <pad> <pad> <pad>\n",
      "\\u092f\\u0924\\u094b <ukn> \\u0932\\u094b\\u0915\\u094b\\u093d\\u0939\\u0902 \\u092f\\u091e\\u094d\\u091a\\u093e\\u0939\\u0902 \\u092a\\u0930\\u093f\\u091a\\u0930\\u093e\\u092e\\u093f \\u0924\\u0926\\u0940\\u092f \\u090f\\u0915\\u094b \\u0926\\u0942\\u0924\\u094b \\u0939\\u094d\\u092f\\u094b \\u0930\\u093e\\u0924\\u094d\\u0930\\u094c \\u092e\\u092e\\u093e\\u0928\\u094d\\u0924\\u093f\\u0915\\u0947 \\u0924\\u093f\\u0937\\u094d\\u0920\\u0928\\u094d \\u0915\\u0925\\u093f\\u0924\\u0935\\u093e\\u0928\\u094d <ukn> <pad> <pad> <pad> <pad> <pad> <pad> <pad> <pad> <pad> <pad> <pad> <pad> <pad> <pad> <pad> <pad>\n",
      "Translation:  then said the king of the jews <ukn> but afterward thou to live now as now <ukn> <ukn> <ukn> as i now <ukn> adultery the way of the \n",
      "   Expected:  for there stood by me this night the angel of god <ukn> whose i am <ukn> and whom i serve <ukn> \n",
      "--------------------------------\n",
      "4.\n",
      "--------------------------------\n",
      "हे प्रभो <ukn> मदीय एको दासः <ukn> भृशं व्यथितः <ukn> सतु शयनीय आस्ते। <pad> <pad> <pad> <pad> <pad> <pad> <pad> <pad> <pad> <pad> <pad> <pad> <pad> <pad> <pad> <pad> <pad>\n",
      "\\u0939\\u0947 \\u092a\\u094d\\u0930\\u092d\\u094b <ukn> \\u092e\\u0926\\u0940\\u092f \\u090f\\u0915\\u094b \\u0926\\u093e\\u0938\\u0903 <ukn> \\u092d\\u0943\\u0936\\u0902 \\u0935\\u094d\\u092f\\u0925\\u093f\\u0924\\u0903 <ukn> \\u0938\\u0924\\u0941 \\u0936\\u092f\\u0928\\u0940\\u092f \\u0906\\u0938\\u094d\\u0924\\u0947\\u0964 <pad> <pad> <pad> <pad> <pad> <pad> <pad> <pad> <pad> <pad> <pad> <pad> <pad> <pad> <pad> <pad> <pad>\n",
      "Translation:  and he saith unto him <ukn> let it alone thou for the father <ukn> for it is it <ukn> for a sword <ukn> him <ukn> him <ukn> him \n",
      "   Expected:  and saying <ukn> lord <ukn> my servant lieth at home sick of the palsy <ukn> grievously tormented <ukn> \n",
      "--------------------------------\n",
      "5.\n",
      "--------------------------------\n",
      "यान् एतान् मनुष्यान् यूयमत्र समानयत ते <ukn> युष्माकं देव्या निन्दकाश्च न भवन्ति। <pad> <pad> <pad> <pad> <pad> <pad> <pad> <pad> <pad> <pad> <pad> <pad> <pad> <pad> <pad> <pad> <pad> <pad>\n",
      "\\u092f\\u093e\\u0928\\u094d \\u090f\\u0924\\u093e\\u0928\\u094d \\u092e\\u0928\\u0941\\u0937\\u094d\\u092f\\u093e\\u0928\\u094d \\u092f\\u0942\\u092f\\u092e\\u0924\\u094d\\u0930 \\u0938\\u092e\\u093e\\u0928\\u092f\\u0924 \\u0924\\u0947 <ukn> \\u092f\\u0941\\u0937\\u094d\\u092e\\u093e\\u0915\\u0902 \\u0926\\u0947\\u0935\\u094d\\u092f\\u093e \\u0928\\u093f\\u0928\\u094d\\u0926\\u0915\\u093e\\u0936\\u094d\\u091a \\u0928 \\u092d\\u0935\\u0928\\u094d\\u0924\\u093f\\u0964 <pad> <pad> <pad> <pad> <pad> <pad> <pad> <pad> <pad> <pad> <pad> <pad> <pad> <pad> <pad> <pad> <pad> <pad>\n",
      "Translation:  that they have eaten with me <ukn> and they that have been written <ukn> then shall they be crucified your work <ukn> your peace <ukn> your peace <ukn> the \n",
      "   Expected:  for ye have brought hither these men <ukn> which are neither robbers of churches <ukn> nor yet blasphemers of your goddess <ukn> \n",
      "--------------------------------\n",
      "6.\n",
      "--------------------------------\n",
      "ततः सोवादीद् <ukn> यूयं न शृणुथ तर्हि कुतः पुनः श्रोतुम् इच्छथ <ukn> यूयमपि किं तस्य शिष्या भवितुम् इच्छथ <ukn> <pad> <pad> <pad> <pad> <pad> <pad> <pad> <pad> <pad> <pad> <pad>\n",
      "\\u0924\\u0924\\u0903 \\u0938\\u094b\\u0935\\u093e\\u0926\\u0940\\u0926\\u094d <ukn> \\u092f\\u0942\\u092f\\u0902 \\u0928 \\u0936\\u0943\\u0923\\u0941\\u0925 \\u0924\\u0930\\u094d\\u0939\\u093f \\u0915\\u0941\\u0924\\u0903 \\u092a\\u0941\\u0928\\u0903 \\u0936\\u094d\\u0930\\u094b\\u0924\\u0941\\u092e\\u094d \\u0907\\u091a\\u094d\\u091b\\u0925 <ukn> \\u092f\\u0942\\u092f\\u092e\\u092a\\u093f \\u0915\\u093f\\u0902 \\u0924\\u0938\\u094d\\u092f \\u0936\\u093f\\u0937\\u094d\\u092f\\u093e \\u092d\\u0935\\u093f\\u0924\\u0941\\u092e\\u094d \\u0907\\u091a\\u094d\\u091b\\u0925 <ukn> <pad> <pad> <pad> <pad> <pad> <pad> <pad> <pad> <pad> <pad> <pad>\n",
      "Translation:  and jesus saith unto them <ukn> receive ye not <ukn> ye will not put him <ukn> on your disciples <ukn> peter also <ukn> and christ <ukn> his disciples \n",
      "   Expected:  he answered them <ukn> i have told you already <ukn> and ye did not hear <ukn> wherefore would ye hear it again <ukn> will ye also be his disciples <ukn> \n",
      "--------------------------------\n",
      "7.\n",
      "--------------------------------\n",
      "<ukn> <ukn> पूर्व्वदिनस्य सायंकाल आगत <pad> <pad> <pad> <pad> <pad> <pad> <pad> <pad> <pad> <pad> <pad> <pad> <pad> <pad> <pad> <pad> <pad> <pad> <pad> <pad> <pad> <pad> <pad> <pad> <pad>\n",
      "<ukn> <ukn> \\u092a\\u0942\\u0930\\u094d\\u0935\\u094d\\u0935\\u0926\\u093f\\u0928\\u0938\\u094d\\u092f \\u0938\\u093e\\u092f\\u0902\\u0915\\u093e\\u0932 \\u0906\\u0917\\u0924 <pad> <pad> <pad> <pad> <pad> <pad> <pad> <pad> <pad> <pad> <pad> <pad> <pad> <pad> <pad> <pad> <pad> <pad> <pad> <pad> <pad> <pad> <pad> <pad> <pad>\n",
      "Translation:  for john was an oath at the jews <ukn> let us hold an melchisedec <ukn> as an oath is said unto him <ukn> an oath of what is without an unclean spirit \n",
      "   Expected:  and now when the even was come <ukn> because it was the preparation <ukn> that is <ukn> the day before the sabbath <ukn> \n",
      "--------------------------------\n",
      "8.\n",
      "--------------------------------\n",
      "यतः केचिदूचुर्योहन् श्मशानादुदतिष्ठत्। केचिदूचुः <ukn> एलियो दर्शनं दत्तवान् <ukn> एवमन्यलोका ऊचुः पूर्व्वीयः कश्चिद् भविष्यद्वादी समुत्थितः। <pad> <pad> <pad> <pad> <pad> <pad> <pad> <pad> <pad> <pad> <pad> <pad> <pad> <pad> <pad>\n",
      "\\u092f\\u0924\\u0903 \\u0915\\u0947\\u091a\\u093f\\u0926\\u0942\\u091a\\u0941\\u0930\\u094d\\u092f\\u094b\\u0939\\u0928\\u094d \\u0936\\u094d\\u092e\\u0936\\u093e\\u0928\\u093e\\u0926\\u0941\\u0926\\u0924\\u093f\\u0937\\u094d\\u0920\\u0924\\u094d\\u0964 \\u0915\\u0947\\u091a\\u093f\\u0926\\u0942\\u091a\\u0941\\u0903 <ukn> \\u090f\\u0932\\u093f\\u092f\\u094b \\u0926\\u0930\\u094d\\u0936\\u0928\\u0902 \\u0926\\u0924\\u094d\\u0924\\u0935\\u093e\\u0928\\u094d <ukn> \\u090f\\u0935\\u092e\\u0928\\u094d\\u092f\\u0932\\u094b\\u0915\\u093e \\u090a\\u091a\\u0941\\u0903 \\u092a\\u0942\\u0930\\u094d\\u0935\\u094d\\u0935\\u0940\\u092f\\u0903 \\u0915\\u0936\\u094d\\u091a\\u093f\\u0926\\u094d \\u092d\\u0935\\u093f\\u0937\\u094d\\u092f\\u0926\\u094d\\u0935\\u093e\\u0926\\u0940 \\u0938\\u092e\\u0941\\u0924\\u094d\\u0925\\u093f\\u0924\\u0903\\u0964 <pad> <pad> <pad> <pad> <pad> <pad> <pad> <pad> <pad> <pad> <pad> <pad> <pad> <pad> <pad>\n",
      "Translation:  and he put in a mountain <ukn> and in the place was put into the temple <ukn> the same place of the streets <ukn> so <ukn> so <ukn> \n",
      "   Expected:  and of some <ukn> that elias had appeared <ukn> and of others <ukn> that one of the old prophets was risen again <ukn> \n",
      "--------------------------------\n",
      "9.\n",
      "--------------------------------\n",
      "अननतरं योहनः शिष्यास्तद्वार्त्तां प्राप्यागत्य तस्य <ukn> श्मशानेऽस्थापयन्। <pad> <pad> <pad> <pad> <pad> <pad> <pad> <pad> <pad> <pad> <pad> <pad> <pad> <pad> <pad> <pad> <pad> <pad> <pad> <pad> <pad> <pad> <pad>\n",
      "\\u0905\\u0928\\u0928\\u0924\\u0930\\u0902 \\u092f\\u094b\\u0939\\u0928\\u0903 \\u0936\\u093f\\u0937\\u094d\\u092f\\u093e\\u0938\\u094d\\u0924\\u0926\\u094d\\u0935\\u093e\\u0930\\u094d\\u0924\\u094d\\u0924\\u093e\\u0902 \\u092a\\u094d\\u0930\\u093e\\u092a\\u094d\\u092f\\u093e\\u0917\\u0924\\u094d\\u092f \\u0924\\u0938\\u094d\\u092f <ukn> \\u0936\\u094d\\u092e\\u0936\\u093e\\u0928\\u0947\\u093d\\u0938\\u094d\\u0925\\u093e\\u092a\\u092f\\u0928\\u094d\\u0964 <pad> <pad> <pad> <pad> <pad> <pad> <pad> <pad> <pad> <pad> <pad> <pad> <pad> <pad> <pad> <pad> <pad> <pad> <pad> <pad> <pad> <pad> <pad>\n",
      "Translation:  and he was a great multitude <ukn> and touched all his son jesus <ukn> and he came and touched the people <ukn> the people and the chief priests prevailed <ukn> \n",
      "   Expected:  and when his disciples heard of it <ukn> they came and took up his corpse <ukn> and laid it in a tomb <ukn> \n",
      "--------------------------------\n",
      "10.\n",
      "--------------------------------\n",
      "तव पुत्रइति विख्यातो भवितुं न योग्योस्मि च <ukn> मां तव वैतनिकं दासं कृत्वा स्थापय। <pad> <pad> <pad> <pad> <pad> <pad> <pad> <pad> <pad> <pad> <pad> <pad> <pad> <pad> <pad> <pad>\n",
      "\\u0924\\u0935 \\u092a\\u0941\\u0924\\u094d\\u0930\\u0907\\u0924\\u093f \\u0935\\u093f\\u0916\\u094d\\u092f\\u093e\\u0924\\u094b \\u092d\\u0935\\u093f\\u0924\\u0941\\u0902 \\u0928 \\u092f\\u094b\\u0917\\u094d\\u092f\\u094b\\u0938\\u094d\\u092e\\u093f \\u091a <ukn> \\u092e\\u093e\\u0902 \\u0924\\u0935 \\u0935\\u0948\\u0924\\u0928\\u093f\\u0915\\u0902 \\u0926\\u093e\\u0938\\u0902 \\u0915\\u0943\\u0924\\u094d\\u0935\\u093e \\u0938\\u094d\\u0925\\u093e\\u092a\\u092f\\u0964 <pad> <pad> <pad> <pad> <pad> <pad> <pad> <pad> <pad> <pad> <pad> <pad> <pad> <pad> <pad> <pad>\n",
      "Translation:  therefore i go to thee <ukn> thy brother be not mine <ukn> and i am not the five hand <ukn> and thy brethren <ukn> not thy record <ukn> me <ukn> \n",
      "   Expected:  and am no more worthy to be called thy son <ukn> make me as one of thy hired servants <ukn> \n",
      "--------------------------------\n"
     ]
    }
   ],
   "source": [
    "f = pd.DataFrame(columns=['Translation', 'Expected', 'Bleu_Score'])\n",
    "\n",
    "with tf.Graph().as_default():\n",
    "    \n",
    "    # placeholders\n",
    "    encoder_inputs = [tf.placeholder(dtype = tf.int32, shape = [None], name = 'encoder{}'.format(i)) for i in range(input_seq_len)]\n",
    "    decoder_inputs = [tf.placeholder(dtype = tf.int32, shape = [None], name = 'decoder{}'.format(i)) for i in range(output_seq_len)]\n",
    "\n",
    "    # output projection\n",
    "    size = 512\n",
    "    w_t = tf.get_variable('proj_w', [en_vocab_size, size], tf.float32)\n",
    "    b = tf.get_variable('proj_b', [en_vocab_size], tf.float32)\n",
    "    w = tf.transpose(w_t)\n",
    "    output_projection = (w, b)\n",
    "    \n",
    "    # change the model so that output at time t can be fed as input at time t+1\n",
    "    outputs, states = tf.contrib.legacy_seq2seq.embedding_attention_seq2seq(\n",
    "                                                encoder_inputs,\n",
    "                                                decoder_inputs,\n",
    "                                                tf.contrib.rnn.BasicLSTMCell(size),\n",
    "                                                num_encoder_symbols = sn_vocab_size,\n",
    "                                                num_decoder_symbols = en_vocab_size,\n",
    "                                                embedding_size = 100,\n",
    "                                                feed_previous = True, # <-----this is changed----->\n",
    "                                                output_projection = output_projection,\n",
    "                                                dtype = tf.float32)\n",
    "    \n",
    "    # ops for projecting outputs\n",
    "    outputs_proj = [tf.matmul(outputs[i], output_projection[0]) + output_projection[1] for i in range(output_seq_len)]\n",
    "\n",
    "    sn_sentences_encoded = X_train\n",
    "    en_sentences_encoded = Y_train\n",
    "    sn_sentences_extra = []#'तर्हि मम वाक्यानि कथं प्रत्येष्यथ', 'मानव इव कोपि कदापि नोपादिशत्']\n",
    "    en_sentences_extra = []#'how shall ye believe my words', 'Never man spake like this man']\n",
    "    sn_sentences_encoded += [[sn_word2idx[word] if word in sn_word2idx else sn_word2idx['<ukn>'] for word in sentence.encode('unicode-escape').decode('utf-8').split()] for sentence in sn_sentences_extra]\n",
    "    en_sentences_encoded += [[en_word2idx[word] if word in en_word2idx else en_word2idx['<ukn>'] for word in sentence.split()] for sentence in en_sentences_extra]\n",
    "    # padding to fit encoder input\n",
    "    for i in range(len(sn_sentences_encoded)):\n",
    "        sn_sentences_encoded[i] += (15 - len(sn_sentences_encoded[i])) * [sn_word2idx['<pad>']]\n",
    "    for i in range(len(en_sentences_encoded)):\n",
    "        en_sentences_encoded[i] += (15 - len(en_sentences_encoded[i])) * [en_word2idx['<pad>']]\n",
    "    \n",
    "    # restore all variables - use the last checkpoint saved\n",
    "    saver = tf.train.Saver()\n",
    "    path = tf.train.latest_checkpoint(checkpointsPath)\n",
    "    \n",
    "    with tf.Session() as sess:\n",
    "        # restore\n",
    "        saver.restore(sess, path)\n",
    "        \n",
    "        # feed data into placeholders\n",
    "        feed = {}\n",
    "        for i in range(input_seq_len):\n",
    "            feed[encoder_inputs[i].name] = np.array([sn_sentences_encoded[j][i] for j in range(len(sn_sentences_encoded))], dtype = np.int32)\n",
    "            \n",
    "        feed[decoder_inputs[0].name] = np.array([en_word2idx['<go>']] * len(sn_sentences_encoded), dtype = np.int32)\n",
    "        \n",
    "        # translate\n",
    "        output_sequences = sess.run(outputs_proj, feed_dict = feed)\n",
    "        \n",
    "        # decode seq.\n",
    "        for i in range(len(sn_sentences_encoded)):\n",
    "            print('{}.\\n--------------------------------'.format(i+1))\n",
    "            ouput_seq = [output_sequences[j][i] for j in range(output_seq_len)]\n",
    "            #decode output sequence\n",
    "            words = decode_output(ouput_seq)\n",
    "            expected = [en_idx2word[word] for word in en_sentences_encoded[i]]\n",
    "        \n",
    "            print(\" \". join([convert_sanskrit(sn_idx2word[word]) for word in sn_sentences_encoded[i] if word is not sn_word2idx['<pad>']]))\n",
    "            #print(\" \". join([(en_idx2word[word]) for word in en_sentences_encoded[i]]))\n",
    "            \n",
    "            translation_bleu = []\n",
    "            print('Translated: ', end = \" \")\n",
    "            for j in range(len(words)):\n",
    "                if words[j] not in ['<eos>', '<pad>', '<go>']:\n",
    "                    print((words[j]), end = \" \")\n",
    "                    translation_bleu.append(words[j])\n",
    "            print()\n",
    "            expected_bleu = []\n",
    "            print('  Expected: ', end = \" \")\n",
    "            for j in range(len(expected)):\n",
    "                if expected[j] not in ['<eos>', '<pad>', '<go>']:\n",
    "                    print(expected[j], end = \" \")\n",
    "                    expected_bleu.append(expected[j])\n",
    "            print()\n",
    "            \n",
    "            bleu_score = sentence_bleu([expected_bleu], translation_bleu)\n",
    "            \n",
    "            df = df.append(other = {'Translation':translation_bleu, 'Expected':expected_bleu, 'Bleu_Score':bleu_score},ignore_index=True)\n",
    "            print('Bleu Score: ', end = \" \")\n",
    "            print(bleu_score)\n",
    "\n",
    "            print('\\n--------------------------------')"
   ]
  }
 ],
 "metadata": {
  "kernelspec": {
   "display_name": "Python 3 (ipykernel)",
   "language": "python",
   "name": "python3"
  },
  "language_info": {
   "codemirror_mode": {
    "name": "ipython",
    "version": 3
   },
   "file_extension": ".py",
   "mimetype": "text/x-python",
   "name": "python",
   "nbconvert_exporter": "python",
   "pygments_lexer": "ipython3",
   "version": "3.7.16"
  }
 },
 "nbformat": 4,
 "nbformat_minor": 4
}
